{
  "cells": [
    {
      "cell_type": "markdown",
      "metadata": {
        "id": "P7XPiIx5jaD7"
      },
      "source": [
        "# Regressão 01 - tarefa 03 - transformações em X e Y"
      ]
    },
    {
      "cell_type": "markdown",
      "source": [
        "Carregue os pacotes necessários e a base de gorjetas."
      ],
      "metadata": {
        "id": "2sEfRrM49CeO"
      }
    },
    {
      "cell_type": "code",
      "source": [
        "import pandas as pd\n",
        "import seaborn as sns\n",
        "from seaborn import load_dataset\n",
        "import matplotlib.pyplot as plt\n",
        "import numpy as np\n",
        "\n",
        "import patsy\n",
        "import statsmodels.api as sm\n",
        "import statsmodels.formula.api as smf\n",
        "\n",
        "%matplotlib inline"
      ],
      "metadata": {
        "id": "FGRF99kO9HyG"
      },
      "execution_count": 1,
      "outputs": []
    },
    {
      "cell_type": "code",
      "source": [
        "tips = sns.load_dataset('tips')\n",
        "tips['tip_pct'] = tips['tip']/ (tips['total_bill'] - tips['tip'])\n",
        "tips['net_bill'] = tips['total_bill'] - tips['tip']\n",
        "tips.head()"
      ],
      "metadata": {
        "colab": {
          "base_uri": "https://localhost:8080/",
          "height": 206
        },
        "id": "8cVHmRq79OPi",
        "outputId": "d6786b69-efbf-46f4-8008-fb691a3bf467"
      },
      "execution_count": 2,
      "outputs": [
        {
          "output_type": "execute_result",
          "data": {
            "text/plain": [
              "   total_bill   tip     sex smoker  day    time  size   tip_pct  net_bill\n",
              "0       16.99  1.01  Female     No  Sun  Dinner     2  0.063204     15.98\n",
              "1       10.34  1.66    Male     No  Sun  Dinner     3  0.191244      8.68\n",
              "2       21.01  3.50    Male     No  Sun  Dinner     3  0.199886     17.51\n",
              "3       23.68  3.31    Male     No  Sun  Dinner     2  0.162494     20.37\n",
              "4       24.59  3.61  Female     No  Sun  Dinner     4  0.172069     20.98"
            ],
            "text/html": [
              "\n",
              "  <div id=\"df-2dc7a17f-17e5-4492-942e-4c6ab2d0a1b3\">\n",
              "    <div class=\"colab-df-container\">\n",
              "      <div>\n",
              "<style scoped>\n",
              "    .dataframe tbody tr th:only-of-type {\n",
              "        vertical-align: middle;\n",
              "    }\n",
              "\n",
              "    .dataframe tbody tr th {\n",
              "        vertical-align: top;\n",
              "    }\n",
              "\n",
              "    .dataframe thead th {\n",
              "        text-align: right;\n",
              "    }\n",
              "</style>\n",
              "<table border=\"1\" class=\"dataframe\">\n",
              "  <thead>\n",
              "    <tr style=\"text-align: right;\">\n",
              "      <th></th>\n",
              "      <th>total_bill</th>\n",
              "      <th>tip</th>\n",
              "      <th>sex</th>\n",
              "      <th>smoker</th>\n",
              "      <th>day</th>\n",
              "      <th>time</th>\n",
              "      <th>size</th>\n",
              "      <th>tip_pct</th>\n",
              "      <th>net_bill</th>\n",
              "    </tr>\n",
              "  </thead>\n",
              "  <tbody>\n",
              "    <tr>\n",
              "      <th>0</th>\n",
              "      <td>16.99</td>\n",
              "      <td>1.01</td>\n",
              "      <td>Female</td>\n",
              "      <td>No</td>\n",
              "      <td>Sun</td>\n",
              "      <td>Dinner</td>\n",
              "      <td>2</td>\n",
              "      <td>0.063204</td>\n",
              "      <td>15.98</td>\n",
              "    </tr>\n",
              "    <tr>\n",
              "      <th>1</th>\n",
              "      <td>10.34</td>\n",
              "      <td>1.66</td>\n",
              "      <td>Male</td>\n",
              "      <td>No</td>\n",
              "      <td>Sun</td>\n",
              "      <td>Dinner</td>\n",
              "      <td>3</td>\n",
              "      <td>0.191244</td>\n",
              "      <td>8.68</td>\n",
              "    </tr>\n",
              "    <tr>\n",
              "      <th>2</th>\n",
              "      <td>21.01</td>\n",
              "      <td>3.50</td>\n",
              "      <td>Male</td>\n",
              "      <td>No</td>\n",
              "      <td>Sun</td>\n",
              "      <td>Dinner</td>\n",
              "      <td>3</td>\n",
              "      <td>0.199886</td>\n",
              "      <td>17.51</td>\n",
              "    </tr>\n",
              "    <tr>\n",
              "      <th>3</th>\n",
              "      <td>23.68</td>\n",
              "      <td>3.31</td>\n",
              "      <td>Male</td>\n",
              "      <td>No</td>\n",
              "      <td>Sun</td>\n",
              "      <td>Dinner</td>\n",
              "      <td>2</td>\n",
              "      <td>0.162494</td>\n",
              "      <td>20.37</td>\n",
              "    </tr>\n",
              "    <tr>\n",
              "      <th>4</th>\n",
              "      <td>24.59</td>\n",
              "      <td>3.61</td>\n",
              "      <td>Female</td>\n",
              "      <td>No</td>\n",
              "      <td>Sun</td>\n",
              "      <td>Dinner</td>\n",
              "      <td>4</td>\n",
              "      <td>0.172069</td>\n",
              "      <td>20.98</td>\n",
              "    </tr>\n",
              "  </tbody>\n",
              "</table>\n",
              "</div>\n",
              "      <button class=\"colab-df-convert\" onclick=\"convertToInteractive('df-2dc7a17f-17e5-4492-942e-4c6ab2d0a1b3')\"\n",
              "              title=\"Convert this dataframe to an interactive table.\"\n",
              "              style=\"display:none;\">\n",
              "        \n",
              "  <svg xmlns=\"http://www.w3.org/2000/svg\" height=\"24px\"viewBox=\"0 0 24 24\"\n",
              "       width=\"24px\">\n",
              "    <path d=\"M0 0h24v24H0V0z\" fill=\"none\"/>\n",
              "    <path d=\"M18.56 5.44l.94 2.06.94-2.06 2.06-.94-2.06-.94-.94-2.06-.94 2.06-2.06.94zm-11 1L8.5 8.5l.94-2.06 2.06-.94-2.06-.94L8.5 2.5l-.94 2.06-2.06.94zm10 10l.94 2.06.94-2.06 2.06-.94-2.06-.94-.94-2.06-.94 2.06-2.06.94z\"/><path d=\"M17.41 7.96l-1.37-1.37c-.4-.4-.92-.59-1.43-.59-.52 0-1.04.2-1.43.59L10.3 9.45l-7.72 7.72c-.78.78-.78 2.05 0 2.83L4 21.41c.39.39.9.59 1.41.59.51 0 1.02-.2 1.41-.59l7.78-7.78 2.81-2.81c.8-.78.8-2.07 0-2.86zM5.41 20L4 18.59l7.72-7.72 1.47 1.35L5.41 20z\"/>\n",
              "  </svg>\n",
              "      </button>\n",
              "      \n",
              "  <style>\n",
              "    .colab-df-container {\n",
              "      display:flex;\n",
              "      flex-wrap:wrap;\n",
              "      gap: 12px;\n",
              "    }\n",
              "\n",
              "    .colab-df-convert {\n",
              "      background-color: #E8F0FE;\n",
              "      border: none;\n",
              "      border-radius: 50%;\n",
              "      cursor: pointer;\n",
              "      display: none;\n",
              "      fill: #1967D2;\n",
              "      height: 32px;\n",
              "      padding: 0 0 0 0;\n",
              "      width: 32px;\n",
              "    }\n",
              "\n",
              "    .colab-df-convert:hover {\n",
              "      background-color: #E2EBFA;\n",
              "      box-shadow: 0px 1px 2px rgba(60, 64, 67, 0.3), 0px 1px 3px 1px rgba(60, 64, 67, 0.15);\n",
              "      fill: #174EA6;\n",
              "    }\n",
              "\n",
              "    [theme=dark] .colab-df-convert {\n",
              "      background-color: #3B4455;\n",
              "      fill: #D2E3FC;\n",
              "    }\n",
              "\n",
              "    [theme=dark] .colab-df-convert:hover {\n",
              "      background-color: #434B5C;\n",
              "      box-shadow: 0px 1px 3px 1px rgba(0, 0, 0, 0.15);\n",
              "      filter: drop-shadow(0px 1px 2px rgba(0, 0, 0, 0.3));\n",
              "      fill: #FFFFFF;\n",
              "    }\n",
              "  </style>\n",
              "\n",
              "      <script>\n",
              "        const buttonEl =\n",
              "          document.querySelector('#df-2dc7a17f-17e5-4492-942e-4c6ab2d0a1b3 button.colab-df-convert');\n",
              "        buttonEl.style.display =\n",
              "          google.colab.kernel.accessAllowed ? 'block' : 'none';\n",
              "\n",
              "        async function convertToInteractive(key) {\n",
              "          const element = document.querySelector('#df-2dc7a17f-17e5-4492-942e-4c6ab2d0a1b3');\n",
              "          const dataTable =\n",
              "            await google.colab.kernel.invokeFunction('convertToInteractive',\n",
              "                                                     [key], {});\n",
              "          if (!dataTable) return;\n",
              "\n",
              "          const docLinkHtml = 'Like what you see? Visit the ' +\n",
              "            '<a target=\"_blank\" href=https://colab.research.google.com/notebooks/data_table.ipynb>data table notebook</a>'\n",
              "            + ' to learn more about interactive tables.';\n",
              "          element.innerHTML = '';\n",
              "          dataTable['output_type'] = 'display_data';\n",
              "          await google.colab.output.renderOutput(dataTable, element);\n",
              "          const docLink = document.createElement('div');\n",
              "          docLink.innerHTML = docLinkHtml;\n",
              "          element.appendChild(docLink);\n",
              "        }\n",
              "      </script>\n",
              "    </div>\n",
              "  </div>\n",
              "  "
            ]
          },
          "metadata": {},
          "execution_count": 2
        }
      ]
    },
    {
      "cell_type": "markdown",
      "source": [
        "### I. Modelo no valor da gorjeta"
      ],
      "metadata": {
        "id": "waeuW70X9wHt"
      }
    },
    {
      "cell_type": "markdown",
      "source": [
        "1. Crie a matriz de design (e a matriz y) utilizando o Patsy, para um modelo em ```tip```, explicada por ```sex, smoker, diner e net_bill```. "
      ],
      "metadata": {
        "id": "-8y2-0nK9zh5"
      }
    },
    {
      "cell_type": "code",
      "source": [
        "reg = smf.ols('tip ~ sex + C(smoker) + C(time) + net_bill', data =tips).fit()"
      ],
      "metadata": {
        "id": "Mr0oPrXA93WE"
      },
      "execution_count": 3,
      "outputs": []
    },
    {
      "cell_type": "code",
      "source": [
        "print(reg.summary())"
      ],
      "metadata": {
        "colab": {
          "base_uri": "https://localhost:8080/"
        },
        "id": "-d3mFQFRG-5c",
        "outputId": "f23095e6-2ab6-4bc2-af09-91069820dfd5"
      },
      "execution_count": 4,
      "outputs": [
        {
          "output_type": "stream",
          "name": "stdout",
          "text": [
            "                            OLS Regression Results                            \n",
            "==============================================================================\n",
            "Dep. Variable:                    tip   R-squared:                       0.335\n",
            "Model:                            OLS   Adj. R-squared:                  0.324\n",
            "Method:                 Least Squares   F-statistic:                     30.13\n",
            "Date:                Sat, 11 Feb 2023   Prob (F-statistic):           2.64e-20\n",
            "Time:                        18:24:02   Log-Likelihood:                -375.13\n",
            "No. Observations:                 244   AIC:                             760.3\n",
            "Df Residuals:                     239   BIC:                             777.8\n",
            "Df Model:                           4                                         \n",
            "Covariance Type:            nonrobust                                         \n",
            "=====================================================================================\n",
            "                        coef    std err          t      P>|t|      [0.025      0.975]\n",
            "-------------------------------------------------------------------------------------\n",
            "Intercept             1.1999      0.242      4.952      0.000       0.723       1.677\n",
            "sex[T.Female]        -0.0034      0.156     -0.022      0.982      -0.311       0.305\n",
            "C(smoker)[T.No]       0.1405      0.151      0.932      0.352      -0.156       0.437\n",
            "C(time)[T.Dinner]     0.0584      0.168      0.347      0.729      -0.273       0.390\n",
            "net_bill              0.0995      0.009     10.662      0.000       0.081       0.118\n",
            "==============================================================================\n",
            "Omnibus:                       36.537   Durbin-Watson:                   2.121\n",
            "Prob(Omnibus):                  0.000   Jarque-Bera (JB):               65.875\n",
            "Skew:                           0.800   Prob(JB):                     4.96e-15\n",
            "Kurtosis:                       4.980   Cond. No.                         71.2\n",
            "==============================================================================\n",
            "\n",
            "Notes:\n",
            "[1] Standard Errors assume that the covariance matrix of the errors is correctly specified.\n"
          ]
        }
      ]
    },
    {
      "cell_type": "markdown",
      "source": [
        "2. Remova as variáveis não significantes."
      ],
      "metadata": {
        "id": "LGYcPJ-PI3xU"
      }
    },
    {
      "cell_type": "code",
      "source": [
        "reg = smf.ols('tip ~ net_bill', data =tips).fit()"
      ],
      "metadata": {
        "id": "gwlYFE60I_A7"
      },
      "execution_count": 5,
      "outputs": []
    },
    {
      "cell_type": "code",
      "source": [
        "print(reg.summary())"
      ],
      "metadata": {
        "colab": {
          "base_uri": "https://localhost:8080/"
        },
        "id": "_O3OCH37J_ez",
        "outputId": "31fbf75c-f5de-4d6e-9588-0bcedaae9304"
      },
      "execution_count": 6,
      "outputs": [
        {
          "output_type": "stream",
          "name": "stdout",
          "text": [
            "                            OLS Regression Results                            \n",
            "==============================================================================\n",
            "Dep. Variable:                    tip   R-squared:                       0.333\n",
            "Model:                            OLS   Adj. R-squared:                  0.330\n",
            "Method:                 Least Squares   F-statistic:                     120.6\n",
            "Date:                Sat, 11 Feb 2023   Prob (F-statistic):           5.02e-23\n",
            "Time:                        18:24:02   Log-Likelihood:                -375.63\n",
            "No. Observations:                 244   AIC:                             755.3\n",
            "Df Residuals:                     242   BIC:                             762.3\n",
            "Df Model:                           1                                         \n",
            "Covariance Type:            nonrobust                                         \n",
            "==============================================================================\n",
            "                 coef    std err          t      P>|t|      [0.025      0.975]\n",
            "------------------------------------------------------------------------------\n",
            "Intercept      1.3307      0.168      7.907      0.000       0.999       1.662\n",
            "net_bill       0.0993      0.009     10.980      0.000       0.082       0.117\n",
            "==============================================================================\n",
            "Omnibus:                       33.873   Durbin-Watson:                   2.123\n",
            "Prob(Omnibus):                  0.000   Jarque-Bera (JB):               59.942\n",
            "Skew:                           0.754   Prob(JB):                     9.63e-14\n",
            "Kurtosis:                       4.903   Cond. No.                         43.3\n",
            "==============================================================================\n",
            "\n",
            "Notes:\n",
            "[1] Standard Errors assume that the covariance matrix of the errors is correctly specified.\n"
          ]
        }
      ]
    },
    {
      "cell_type": "markdown",
      "source": [
        "3. observe o gráfico de resíduos em função de net_bill"
      ],
      "metadata": {
        "id": "4GDRqZgzKUMi"
      }
    },
    {
      "cell_type": "code",
      "source": [
        "tips['res_tip'] = reg.resid"
      ],
      "metadata": {
        "id": "SutMweX5KO2q"
      },
      "execution_count": 7,
      "outputs": []
    },
    {
      "cell_type": "code",
      "source": [
        "sns.scatterplot(x = 'tip', y = 'res_tip', data = tips)\n",
        "plt.axhline(y=0, color='r', linestyle='--')"
      ],
      "metadata": {
        "colab": {
          "base_uri": "https://localhost:8080/",
          "height": 300
        },
        "id": "OiOu5IC0Lhmu",
        "outputId": "dd9c2b6e-965f-4ca3-cc1d-d3bb7acb711e"
      },
      "execution_count": 8,
      "outputs": [
        {
          "output_type": "execute_result",
          "data": {
            "text/plain": [
              "<matplotlib.lines.Line2D at 0x7fc162455ee0>"
            ]
          },
          "metadata": {},
          "execution_count": 8
        },
        {
          "output_type": "display_data",
          "data": {
            "text/plain": [
              "<Figure size 432x288 with 1 Axes>"
            ],
            "image/png": "[encoded data removed]"
          },
          "metadata": {
            "needs_background": "light"
          }
        }
      ]
    },
    {
      "cell_type": "markdown",
      "source": [
        "4. teste transformar net_bill no log e um polinômio. Escolha o melhor modelo."
      ],
      "metadata": {
        "id": "tqJkmb0ctPv7"
      }
    },
    {
      "cell_type": "markdown",
      "source": [
        "*Conforme veremos abaixo, entre o modelo com o log versus o modelo com o polinômio, o segundo (polinômio) tem um melhor r-quadrado: 0.30 e o gráfico do resíduo começa a mostrar uma curva 'concava'.*"
      ],
      "metadata": {
        "id": "g_qdkYqDvfeD"
      }
    },
    {
      "cell_type": "code",
      "source": [
        "reg = smf.ols('tip ~ np.log(net_bill)', data =tips).fit()\n",
        "print(reg.summary())"
      ],
      "metadata": {
        "colab": {
          "base_uri": "https://localhost:8080/"
        },
        "id": "e7jP7DAgtZbw",
        "outputId": "1aeb51e6-2862-4f23-9ac7-b23b00e65602"
      },
      "execution_count": 11,
      "outputs": [
        {
          "output_type": "stream",
          "name": "stdout",
          "text": [
            "                            OLS Regression Results                            \n",
            "==============================================================================\n",
            "Dep. Variable:                    tip   R-squared:                       0.294\n",
            "Model:                            OLS   Adj. R-squared:                  0.292\n",
            "Method:                 Least Squares   F-statistic:                     101.0\n",
            "Date:                Sat, 11 Feb 2023   Prob (F-statistic):           4.40e-20\n",
            "Time:                        18:26:34   Log-Likelihood:                -382.40\n",
            "No. Observations:                 244   AIC:                             768.8\n",
            "Df Residuals:                     242   BIC:                             775.8\n",
            "Df Model:                           1                                         \n",
            "Covariance Type:            nonrobust                                         \n",
            "====================================================================================\n",
            "                       coef    std err          t      P>|t|      [0.025      0.975]\n",
            "------------------------------------------------------------------------------------\n",
            "Intercept           -1.2575      0.430     -2.924      0.004      -2.104      -0.410\n",
            "np.log(net_bill)     1.5695      0.156     10.049      0.000       1.262       1.877\n",
            "==============================================================================\n",
            "Omnibus:                       73.945   Durbin-Watson:                   2.045\n",
            "Prob(Omnibus):                  0.000   Jarque-Bera (JB):              221.148\n",
            "Skew:                           1.303   Prob(JB):                     9.51e-49\n",
            "Kurtosis:                       6.868   Cond. No.                         17.9\n",
            "==============================================================================\n",
            "\n",
            "Notes:\n",
            "[1] Standard Errors assume that the covariance matrix of the errors is correctly specified.\n"
          ]
        }
      ]
    },
    {
      "cell_type": "code",
      "source": [
        "tips['res_log_net_bill'] = reg.resid"
      ],
      "metadata": {
        "id": "fkmDViOwuRQ7"
      },
      "execution_count": 12,
      "outputs": []
    },
    {
      "cell_type": "code",
      "source": [
        "sns.scatterplot(x = 'tip', y = 'res_log_net_bill', data = tips)\n",
        "plt.axhline(y=0, color='r', linestyle='--')"
      ],
      "metadata": {
        "colab": {
          "base_uri": "https://localhost:8080/",
          "height": 296
        },
        "id": "-JShbYupuZtx",
        "outputId": "4be91a89-8aff-49e9-d5c6-99a0bc636d34"
      },
      "execution_count": 15,
      "outputs": [
        {
          "output_type": "execute_result",
          "data": {
            "text/plain": [
              "<matplotlib.lines.Line2D at 0x7fc15f6f1970>"
            ]
          },
          "metadata": {},
          "execution_count": 15
        },
        {
          "output_type": "display_data",
          "data": {
            "text/plain": [
              "<Figure size 432x288 with 1 Axes>"
            ],
            "image/png": "[encoded data removed]"
          },
          "metadata": {
            "needs_background": "light"
          }
        }
      ]
    },
    {
      "cell_type": "code",
      "source": [
        "reg = smf.ols('tip ~ np.power(net_bill,2)', data =tips).fit()\n",
        "print(reg.summary())"
      ],
      "metadata": {
        "colab": {
          "base_uri": "https://localhost:8080/"
        },
        "id": "MeBxdx75u4jk",
        "outputId": "1beea4a7-1197-4d2e-cd00-b9750d90a58d"
      },
      "execution_count": 14,
      "outputs": [
        {
          "output_type": "stream",
          "name": "stdout",
          "text": [
            "                            OLS Regression Results                            \n",
            "==============================================================================\n",
            "Dep. Variable:                    tip   R-squared:                       0.301\n",
            "Model:                            OLS   Adj. R-squared:                  0.298\n",
            "Method:                 Least Squares   F-statistic:                     104.1\n",
            "Date:                Sat, 11 Feb 2023   Prob (F-statistic):           1.47e-20\n",
            "Time:                        18:30:08   Log-Likelihood:                -381.31\n",
            "No. Observations:                 244   AIC:                             766.6\n",
            "Df Residuals:                     242   BIC:                             773.6\n",
            "Df Model:                           1                                         \n",
            "Covariance Type:            nonrobust                                         \n",
            "=========================================================================================\n",
            "                            coef    std err          t      P>|t|      [0.025      0.975]\n",
            "-----------------------------------------------------------------------------------------\n",
            "Intercept                 2.2566      0.104     21.720      0.000       2.052       2.461\n",
            "np.power(net_bill, 2)     0.0021      0.000     10.202      0.000       0.002       0.003\n",
            "==============================================================================\n",
            "Omnibus:                       22.756   Durbin-Watson:                   2.184\n",
            "Prob(Omnibus):                  0.000   Jarque-Bera (JB):               31.466\n",
            "Skew:                           0.620   Prob(JB):                     1.47e-07\n",
            "Kurtosis:                       4.248   Cond. No.                         692.\n",
            "==============================================================================\n",
            "\n",
            "Notes:\n",
            "[1] Standard Errors assume that the covariance matrix of the errors is correctly specified.\n"
          ]
        }
      ]
    },
    {
      "cell_type": "code",
      "source": [
        "tips['res_poli_net_bill'] = reg.resid"
      ],
      "metadata": {
        "id": "xnboclk4vQQ-"
      },
      "execution_count": 16,
      "outputs": []
    },
    {
      "cell_type": "code",
      "source": [
        "sns.scatterplot(x = 'tip', y = 'res_poli_net_bill', data = tips)\n",
        "plt.axhline(y=0, color='r', linestyle='--')"
      ],
      "metadata": {
        "colab": {
          "base_uri": "https://localhost:8080/",
          "height": 296
        },
        "id": "myXZJYcUvXeC",
        "outputId": "9c4ec8d4-bc48-4a9a-ec7b-f8685e648f68"
      },
      "execution_count": 17,
      "outputs": [
        {
          "output_type": "execute_result",
          "data": {
            "text/plain": [
              "<matplotlib.lines.Line2D at 0x7fc15f64a310>"
            ]
          },
          "metadata": {},
          "execution_count": 17
        },
        {
          "output_type": "display_data",
          "data": {
            "text/plain": [
              "<Figure size 432x288 with 1 Axes>"
            ],
            "image/png": "[encoded data removed]"
          },
          "metadata": {
            "needs_background": "light"
          }
        }
      ]
    },
    {
      "cell_type": "markdown",
      "source": [
        "II. Modelo no valor do percentual da gorjeta"
      ],
      "metadata": {
        "id": "xAPWCci-yE3r"
      }
    },
    {
      "cell_type": "markdown",
      "source": [
        "1. Crie a matriz de design (e a matriz y) utilizando o Patsy, para um modelo no log de tip, explicado por sex, smoker, diner e net_bill."
      ],
      "metadata": {
        "id": "gt0PJjlTyHsz"
      }
    },
    {
      "cell_type": "code",
      "source": [
        "reg = smf.ols('np.log(tip) ~ sex + C(smoker) + C(time) + net_bill', data =tips).fit()\n",
        "print(reg.summary())"
      ],
      "metadata": {
        "colab": {
          "base_uri": "https://localhost:8080/"
        },
        "id": "Z26SAVSByCdD",
        "outputId": "b4b4472d-abf0-4ba5-d0ca-80304a359e9e"
      },
      "execution_count": 20,
      "outputs": [
        {
          "output_type": "stream",
          "name": "stdout",
          "text": [
            "                            OLS Regression Results                            \n",
            "==============================================================================\n",
            "Dep. Variable:            np.log(tip)   R-squared:                       0.313\n",
            "Model:                            OLS   Adj. R-squared:                  0.302\n",
            "Method:                 Least Squares   F-statistic:                     27.25\n",
            "Date:                Sat, 11 Feb 2023   Prob (F-statistic):           1.21e-18\n",
            "Time:                        19:04:10   Log-Likelihood:                -97.419\n",
            "No. Observations:                 244   AIC:                             204.8\n",
            "Df Residuals:                     239   BIC:                             222.3\n",
            "Df Model:                           4                                         \n",
            "Covariance Type:            nonrobust                                         \n",
            "=====================================================================================\n",
            "                        coef    std err          t      P>|t|      [0.025      0.975]\n",
            "-------------------------------------------------------------------------------------\n",
            "Intercept             0.4504      0.078      5.801      0.000       0.297       0.603\n",
            "sex[T.Female]         0.0048      0.050      0.097      0.923      -0.094       0.104\n",
            "C(smoker)[T.No]       0.0436      0.048      0.903      0.367      -0.052       0.139\n",
            "C(time)[T.Dinner]     0.0191      0.054      0.355      0.723      -0.087       0.125\n",
            "net_bill              0.0304      0.003     10.152      0.000       0.024       0.036\n",
            "==============================================================================\n",
            "Omnibus:                        2.577   Durbin-Watson:                   2.044\n",
            "Prob(Omnibus):                  0.276   Jarque-Bera (JB):                2.235\n",
            "Skew:                          -0.181   Prob(JB):                        0.327\n",
            "Kurtosis:                       3.298   Cond. No.                         71.2\n",
            "==============================================================================\n",
            "\n",
            "Notes:\n",
            "[1] Standard Errors assume that the covariance matrix of the errors is correctly specified.\n"
          ]
        }
      ]
    },
    {
      "cell_type": "markdown",
      "source": [
        "2. Remova as variáveis não significantes."
      ],
      "metadata": {
        "id": "M5wqVMJA2iKL"
      }
    },
    {
      "cell_type": "code",
      "source": [
        "reg = smf.ols('np.log(tip) ~ net_bill', data =tips).fit()\n",
        "print(reg.summary())"
      ],
      "metadata": {
        "colab": {
          "base_uri": "https://localhost:8080/"
        },
        "id": "m07JiASz2oaP",
        "outputId": "dfcebce9-82cc-4e13-f78f-1b2bfda0b42f"
      },
      "execution_count": 21,
      "outputs": [
        {
          "output_type": "stream",
          "name": "stdout",
          "text": [
            "                            OLS Regression Results                            \n",
            "==============================================================================\n",
            "Dep. Variable:            np.log(tip)   R-squared:                       0.311\n",
            "Model:                            OLS   Adj. R-squared:                  0.308\n",
            "Method:                 Least Squares   F-statistic:                     109.0\n",
            "Date:                Sat, 11 Feb 2023   Prob (F-statistic):           2.60e-21\n",
            "Time:                        19:05:06   Log-Likelihood:                -97.886\n",
            "No. Observations:                 244   AIC:                             199.8\n",
            "Df Residuals:                     242   BIC:                             206.8\n",
            "Df Model:                           1                                         \n",
            "Covariance Type:            nonrobust                                         \n",
            "==============================================================================\n",
            "                 coef    std err          t      P>|t|      [0.025      0.975]\n",
            "------------------------------------------------------------------------------\n",
            "Intercept      0.4945      0.054      9.172      0.000       0.388       0.601\n",
            "net_bill       0.0303      0.003     10.442      0.000       0.025       0.036\n",
            "==============================================================================\n",
            "Omnibus:                        2.865   Durbin-Watson:                   2.043\n",
            "Prob(Omnibus):                  0.239   Jarque-Bera (JB):                2.502\n",
            "Skew:                          -0.215   Prob(JB):                        0.286\n",
            "Kurtosis:                       3.248   Cond. No.                         43.3\n",
            "==============================================================================\n",
            "\n",
            "Notes:\n",
            "[1] Standard Errors assume that the covariance matrix of the errors is correctly specified.\n"
          ]
        }
      ]
    },
    {
      "cell_type": "markdown",
      "source": [
        "3. Observe o gráfico de resíduos em função de ```net_bill```"
      ],
      "metadata": {
        "id": "sNkpuFcm3Un8"
      }
    },
    {
      "cell_type": "code",
      "source": [
        "tips['res_net_bill'] = reg.resid"
      ],
      "metadata": {
        "id": "yBu6UvhI3QiL"
      },
      "execution_count": 23,
      "outputs": []
    },
    {
      "cell_type": "code",
      "source": [
        "sns.scatterplot(x = 'tip', y = 'res_net_bill', data = tips)\n",
        "plt.axhline(y=0, color='r', linestyle='--')"
      ],
      "metadata": {
        "colab": {
          "base_uri": "https://localhost:8080/",
          "height": 296
        },
        "id": "2XLTpDHk3eKe",
        "outputId": "7f382fad-c2f1-45af-9db2-ec3855bb066d"
      },
      "execution_count": 28,
      "outputs": [
        {
          "output_type": "execute_result",
          "data": {
            "text/plain": [
              "<matplotlib.lines.Line2D at 0x7fc15e881a90>"
            ]
          },
          "metadata": {},
          "execution_count": 28
        },
        {
          "output_type": "display_data",
          "data": {
            "text/plain": [
              "<Figure size 432x288 with 1 Axes>"
            ],
            "image/png": "[encoded data removed]"
          },
          "metadata": {
            "needs_background": "light"
          }
        }
      ]
    },
    {
      "cell_type": "markdown",
      "source": [
        "4. Teste transformar net_bill no log e um polinômio. Escolha o melhor modelo."
      ],
      "metadata": {
        "id": "_75LuFO63zVL"
      }
    },
    {
      "cell_type": "markdown",
      "source": [
        "*Conforme visto nos estudos abaixo, quando usamos log de tip versus log de net_bill, temos um r-quadrado de 0,319. Maior do que o modelo usando o polinômio de net_bill. Os gráficos de resíduos mostram bem a evolução dos modelos, já vemos uma dispersão menos no modelo que usamos o log de tip e log de net_bill.*"
      ],
      "metadata": {
        "id": "uyIj5Os75eTt"
      }
    },
    {
      "cell_type": "markdown",
      "source": [],
      "metadata": {
        "id": "zrr-mQgE5eSC"
      }
    },
    {
      "cell_type": "code",
      "source": [
        "reg = smf.ols('np.log(tip) ~ np.log(net_bill)', data =tips).fit()\n",
        "print(reg.summary())"
      ],
      "metadata": {
        "colab": {
          "base_uri": "https://localhost:8080/"
        },
        "id": "3roqJrTn34bd",
        "outputId": "72215b26-152f-473d-d2a0-38769d8ff854"
      },
      "execution_count": 25,
      "outputs": [
        {
          "output_type": "stream",
          "name": "stdout",
          "text": [
            "                            OLS Regression Results                            \n",
            "==============================================================================\n",
            "Dep. Variable:            np.log(tip)   R-squared:                       0.319\n",
            "Model:                            OLS   Adj. R-squared:                  0.316\n",
            "Method:                 Least Squares   F-statistic:                     113.5\n",
            "Date:                Sat, 11 Feb 2023   Prob (F-statistic):           5.62e-22\n",
            "Time:                        19:09:32   Log-Likelihood:                -96.357\n",
            "No. Observations:                 244   AIC:                             196.7\n",
            "Df Residuals:                     242   BIC:                             203.7\n",
            "Df Model:                           1                                         \n",
            "Covariance Type:            nonrobust                                         \n",
            "====================================================================================\n",
            "                       coef    std err          t      P>|t|      [0.025      0.975]\n",
            "------------------------------------------------------------------------------------\n",
            "Intercept           -0.3942      0.133     -2.961      0.003      -0.657      -0.132\n",
            "np.log(net_bill)     0.5151      0.048     10.652      0.000       0.420       0.610\n",
            "==============================================================================\n",
            "Omnibus:                       12.633   Durbin-Watson:                   1.976\n",
            "Prob(Omnibus):                  0.002   Jarque-Bera (JB):               28.054\n",
            "Skew:                           0.141   Prob(JB):                     8.10e-07\n",
            "Kurtosis:                       4.637   Cond. No.                         17.9\n",
            "==============================================================================\n",
            "\n",
            "Notes:\n",
            "[1] Standard Errors assume that the covariance matrix of the errors is correctly specified.\n"
          ]
        }
      ]
    },
    {
      "cell_type": "code",
      "source": [
        "tips['res_log_net_bill_por_log_tip'] = reg.resid"
      ],
      "metadata": {
        "id": "MFqGPdN94LfA"
      },
      "execution_count": 26,
      "outputs": []
    },
    {
      "cell_type": "code",
      "source": [
        "sns.scatterplot(x = 'tip', y = 'res_log_net_bill_por_log_tip', data = tips)\n",
        "plt.axhline(y=0, color='r', linestyle='--')"
      ],
      "metadata": {
        "colab": {
          "base_uri": "https://localhost:8080/",
          "height": 296
        },
        "id": "gtKnAHjx4Qp1",
        "outputId": "a6dcd8d7-95be-4867-ddd4-f05d837c4ef9"
      },
      "execution_count": 29,
      "outputs": [
        {
          "output_type": "execute_result",
          "data": {
            "text/plain": [
              "<matplotlib.lines.Line2D at 0x7fc15e874ac0>"
            ]
          },
          "metadata": {},
          "execution_count": 29
        },
        {
          "output_type": "display_data",
          "data": {
            "text/plain": [
              "<Figure size 432x288 with 1 Axes>"
            ],
            "image/png": "[encoded data removed]"
          },
          "metadata": {
            "needs_background": "light"
          }
        }
      ]
    },
    {
      "cell_type": "code",
      "source": [
        "reg = smf.ols('np.log(tip) ~ np.power(net_bill,2)', data =tips).fit()\n",
        "print(reg.summary())"
      ],
      "metadata": {
        "colab": {
          "base_uri": "https://localhost:8080/"
        },
        "id": "AiTMa0YG4osU",
        "outputId": "d901ddd6-ed06-48ba-c4f7-fb8af285d585"
      },
      "execution_count": 42,
      "outputs": [
        {
          "output_type": "stream",
          "name": "stdout",
          "text": [
            "                            OLS Regression Results                            \n",
            "==============================================================================\n",
            "Dep. Variable:            np.log(tip)   R-squared:                       0.250\n",
            "Model:                            OLS   Adj. R-squared:                  0.247\n",
            "Method:                 Least Squares   F-statistic:                     80.67\n",
            "Date:                Sat, 11 Feb 2023   Prob (F-statistic):           7.70e-17\n",
            "Time:                        19:39:51   Log-Likelihood:                -108.16\n",
            "No. Observations:                 244   AIC:                             220.3\n",
            "Df Residuals:                     242   BIC:                             227.3\n",
            "Df Model:                           1                                         \n",
            "Covariance Type:            nonrobust                                         \n",
            "=========================================================================================\n",
            "                            coef    std err          t      P>|t|      [0.025      0.975]\n",
            "-----------------------------------------------------------------------------------------\n",
            "Intercept                 0.7894      0.034     23.273      0.000       0.723       0.856\n",
            "np.power(net_bill, 2)     0.0006   6.86e-05      8.982      0.000       0.000       0.001\n",
            "==============================================================================\n",
            "Omnibus:                        2.469   Durbin-Watson:                   2.087\n",
            "Prob(Omnibus):                  0.291   Jarque-Bera (JB):                2.507\n",
            "Skew:                          -0.240   Prob(JB):                        0.285\n",
            "Kurtosis:                       2.874   Cond. No.                         692.\n",
            "==============================================================================\n",
            "\n",
            "Notes:\n",
            "[1] Standard Errors assume that the covariance matrix of the errors is correctly specified.\n"
          ]
        }
      ]
    },
    {
      "cell_type": "code",
      "source": [
        "tips['res_poli_net_bill_por_log_tip'] = reg.resid"
      ],
      "metadata": {
        "id": "QcT158BN5Byt"
      },
      "execution_count": 32,
      "outputs": []
    },
    {
      "cell_type": "code",
      "source": [
        "sns.scatterplot(x = 'tip', y = 'res_poli_net_bill_por_log_tip', data = tips)\n",
        "plt.axhline(y=0, color='r', linestyle='--')"
      ],
      "metadata": {
        "colab": {
          "base_uri": "https://localhost:8080/",
          "height": 299
        },
        "id": "adA-pFZ45L67",
        "outputId": "4499aee2-1aa4-4c88-ffa5-f387cf25ceab"
      },
      "execution_count": 33,
      "outputs": [
        {
          "output_type": "execute_result",
          "data": {
            "text/plain": [
              "<matplotlib.lines.Line2D at 0x7fc15e7b67c0>"
            ]
          },
          "metadata": {},
          "execution_count": 33
        },
        {
          "output_type": "display_data",
          "data": {
            "text/plain": [
              "<Figure size 432x288 with 1 Axes>"
            ],
            "image/png": "[encoded data removed]"
          },
          "metadata": {
            "needs_background": "light"
          }
        }
      ]
    },
    {
      "cell_type": "markdown",
      "source": [
        "5. Do modelo final deste item, calcule o $R^2$ na escala de ```tip``` (sem o log). Compare com o modelo do item 1. Qual tem melhor coeficiente de determinação?"
      ],
      "metadata": {
        "id": "e0AUpQOy6Oyn"
      }
    },
    {
      "cell_type": "markdown",
      "source": [
        "*Vemos que mesmo com os modelos de ajuste, o primeiro modelo criando, onde apenas vimos o tip versus o net_bill obteve um r-quadrado de 0.333, que é o melhor modelo que encontamos*"
      ],
      "metadata": {
        "id": "CpI6Y7up_yDP"
      }
    },
    {
      "cell_type": "code",
      "source": [
        "#Modelo 1\n",
        "reg = smf.ols('tip ~ net_bill', data =tips).fit()\n",
        "print(reg.summary())"
      ],
      "metadata": {
        "colab": {
          "base_uri": "https://localhost:8080/"
        },
        "id": "9vajzcsa6TiC",
        "outputId": "ccc9f874-480b-4666-dc15-fcc024501b7a"
      },
      "execution_count": 44,
      "outputs": [
        {
          "output_type": "stream",
          "name": "stdout",
          "text": [
            "                            OLS Regression Results                            \n",
            "==============================================================================\n",
            "Dep. Variable:                    tip   R-squared:                       0.333\n",
            "Model:                            OLS   Adj. R-squared:                  0.330\n",
            "Method:                 Least Squares   F-statistic:                     120.6\n",
            "Date:                Sat, 11 Feb 2023   Prob (F-statistic):           5.02e-23\n",
            "Time:                        19:42:28   Log-Likelihood:                -375.63\n",
            "No. Observations:                 244   AIC:                             755.3\n",
            "Df Residuals:                     242   BIC:                             762.3\n",
            "Df Model:                           1                                         \n",
            "Covariance Type:            nonrobust                                         \n",
            "==============================================================================\n",
            "                 coef    std err          t      P>|t|      [0.025      0.975]\n",
            "------------------------------------------------------------------------------\n",
            "Intercept      1.3307      0.168      7.907      0.000       0.999       1.662\n",
            "net_bill       0.0993      0.009     10.980      0.000       0.082       0.117\n",
            "==============================================================================\n",
            "Omnibus:                       33.873   Durbin-Watson:                   2.123\n",
            "Prob(Omnibus):                  0.000   Jarque-Bera (JB):               59.942\n",
            "Skew:                           0.754   Prob(JB):                     9.63e-14\n",
            "Kurtosis:                       4.903   Cond. No.                         43.3\n",
            "==============================================================================\n",
            "\n",
            "Notes:\n",
            "[1] Standard Errors assume that the covariance matrix of the errors is correctly specified.\n"
          ]
        }
      ]
    },
    {
      "cell_type": "code",
      "source": [
        "#Modelo 'final'\n",
        "reg = smf.ols('np.log(tip) ~ np.log(net_bill)', data =tips).fit()\n",
        "print(reg.summary())"
      ],
      "metadata": {
        "colab": {
          "base_uri": "https://localhost:8080/"
        },
        "id": "B3ov4yYu_fT5",
        "outputId": "e91b0baa-2a7b-4329-cdb0-411fddae847c"
      },
      "execution_count": 45,
      "outputs": [
        {
          "output_type": "stream",
          "name": "stdout",
          "text": [
            "                            OLS Regression Results                            \n",
            "==============================================================================\n",
            "Dep. Variable:            np.log(tip)   R-squared:                       0.319\n",
            "Model:                            OLS   Adj. R-squared:                  0.316\n",
            "Method:                 Least Squares   F-statistic:                     113.5\n",
            "Date:                Sat, 11 Feb 2023   Prob (F-statistic):           5.62e-22\n",
            "Time:                        19:43:14   Log-Likelihood:                -96.357\n",
            "No. Observations:                 244   AIC:                             196.7\n",
            "Df Residuals:                     242   BIC:                             203.7\n",
            "Df Model:                           1                                         \n",
            "Covariance Type:            nonrobust                                         \n",
            "====================================================================================\n",
            "                       coef    std err          t      P>|t|      [0.025      0.975]\n",
            "------------------------------------------------------------------------------------\n",
            "Intercept           -0.3942      0.133     -2.961      0.003      -0.657      -0.132\n",
            "np.log(net_bill)     0.5151      0.048     10.652      0.000       0.420       0.610\n",
            "==============================================================================\n",
            "Omnibus:                       12.633   Durbin-Watson:                   1.976\n",
            "Prob(Omnibus):                  0.002   Jarque-Bera (JB):               28.054\n",
            "Skew:                           0.141   Prob(JB):                     8.10e-07\n",
            "Kurtosis:                       4.637   Cond. No.                         17.9\n",
            "==============================================================================\n",
            "\n",
            "Notes:\n",
            "[1] Standard Errors assume that the covariance matrix of the errors is correctly specified.\n"
          ]
        }
      ]
    },
    {
      "cell_type": "markdown",
      "metadata": {
        "id": "AnWrxnuujaEC"
      },
      "source": [
        "### III. Previsão de renda\n",
        "\n",
        "Vamos trabalhar a base que você vai usar no projeto do final deste ciclo.\n",
        "\n",
        "Carregue a base ```previsao_de_renda.csv```.\n",
        "\n",
        "|variavel|descrição|\n",
        "|-|-|\n",
        "|data_ref                | Data de referência de coleta das variáveis |\n",
        "|index                   | Código de identificação do cliente|\n",
        "|sexo                    | Sexo do cliente|\n",
        "|posse_de_veiculo        | Indica se o cliente possui veículo|\n",
        "|posse_de_imovel         | Indica se o cliente possui imóvel|\n",
        "|qtd_filhos              | Quantidade de filhos do cliente|\n",
        "|tipo_renda              | Tipo de renda do cliente|\n",
        "|educacao                | Grau de instrução do cliente|\n",
        "|estado_civil            | Estado civil do cliente|\n",
        "|tipo_residencia         | Tipo de residência do cliente (própria, alugada etc)|\n",
        "|idade                   | Idade do cliente|\n",
        "|tempo_emprego           | Tempo no emprego atual|\n",
        "|qt_pessoas_residencia   | Quantidade de pessoas que moram na residência|\n",
        "|renda                   | Renda em reais|\n"
      ]
    },
    {
      "cell_type": "code",
      "source": [
        "previsao_de_renda = pd.read_csv('/content/previsao_de_renda.csv')"
      ],
      "metadata": {
        "id": "CBrata9YAgnK"
      },
      "execution_count": 46,
      "outputs": []
    },
    {
      "cell_type": "code",
      "source": [
        "previsao_de_renda = pd.DataFrame(previsao_de_renda)"
      ],
      "metadata": {
        "id": "x8DdYZKFKzID"
      },
      "execution_count": 47,
      "outputs": []
    },
    {
      "cell_type": "code",
      "source": [
        "previsao_de_renda.head()"
      ],
      "metadata": {
        "colab": {
          "base_uri": "https://localhost:8080/",
          "height": 375
        },
        "id": "p2K2Cjx9K7MY",
        "outputId": "00b9c759-d96f-4e1d-c9fd-983055904b91"
      },
      "execution_count": 48,
      "outputs": [
        {
          "output_type": "execute_result",
          "data": {
            "text/plain": [
              "   Unnamed: 0    data_ref  id_cliente sexo  posse_de_veiculo  posse_de_imovel  \\\n",
              "0           0  2015-01-01       15056    F             False             True   \n",
              "1           1  2015-01-01        9968    M              True             True   \n",
              "2           2  2015-01-01        4312    F              True             True   \n",
              "3           3  2015-01-01       10639    F             False             True   \n",
              "4           4  2015-01-01        7064    M              True            False   \n",
              "\n",
              "   qtd_filhos        tipo_renda           educacao estado_civil  \\\n",
              "0           0        Empresário         Secundário     Solteiro   \n",
              "1           0       Assalariado  Superior completo       Casado   \n",
              "2           0        Empresário  Superior completo       Casado   \n",
              "3           1  Servidor público  Superior completo       Casado   \n",
              "4           0       Assalariado         Secundário     Solteiro   \n",
              "\n",
              "  tipo_residencia  idade  tempo_emprego  qt_pessoas_residencia    renda  \n",
              "0            Casa     26       6.602740                    1.0  8060.34  \n",
              "1            Casa     28       7.183562                    2.0  1852.15  \n",
              "2            Casa     35       0.838356                    2.0  2253.89  \n",
              "3            Casa     30       4.846575                    3.0  6600.77  \n",
              "4   Governamental     33       4.293151                    1.0  6475.97  "
            ],
            "text/html": [
              "\n",
              "  <div id=\"df-bdefcd11-f707-4e6c-a0d3-5e078fa9d5b1\">\n",
              "    <div class=\"colab-df-container\">\n",
              "      <div>\n",
              "<style scoped>\n",
              "    .dataframe tbody tr th:only-of-type {\n",
              "        vertical-align: middle;\n",
              "    }\n",
              "\n",
              "    .dataframe tbody tr th {\n",
              "        vertical-align: top;\n",
              "    }\n",
              "\n",
              "    .dataframe thead th {\n",
              "        text-align: right;\n",
              "    }\n",
              "</style>\n",
              "<table border=\"1\" class=\"dataframe\">\n",
              "  <thead>\n",
              "    <tr style=\"text-align: right;\">\n",
              "      <th></th>\n",
              "      <th>Unnamed: 0</th>\n",
              "      <th>data_ref</th>\n",
              "      <th>id_cliente</th>\n",
              "      <th>sexo</th>\n",
              "      <th>posse_de_veiculo</th>\n",
              "      <th>posse_de_imovel</th>\n",
              "      <th>qtd_filhos</th>\n",
              "      <th>tipo_renda</th>\n",
              "      <th>educacao</th>\n",
              "      <th>estado_civil</th>\n",
              "      <th>tipo_residencia</th>\n",
              "      <th>idade</th>\n",
              "      <th>tempo_emprego</th>\n",
              "      <th>qt_pessoas_residencia</th>\n",
              "      <th>renda</th>\n",
              "    </tr>\n",
              "  </thead>\n",
              "  <tbody>\n",
              "    <tr>\n",
              "      <th>0</th>\n",
              "      <td>0</td>\n",
              "      <td>2015-01-01</td>\n",
              "      <td>15056</td>\n",
              "      <td>F</td>\n",
              "      <td>False</td>\n",
              "      <td>True</td>\n",
              "      <td>0</td>\n",
              "      <td>Empresário</td>\n",
              "      <td>Secundário</td>\n",
              "      <td>Solteiro</td>\n",
              "      <td>Casa</td>\n",
              "      <td>26</td>\n",
              "      <td>6.602740</td>\n",
              "      <td>1.0</td>\n",
              "      <td>8060.34</td>\n",
              "    </tr>\n",
              "    <tr>\n",
              "      <th>1</th>\n",
              "      <td>1</td>\n",
              "      <td>2015-01-01</td>\n",
              "      <td>9968</td>\n",
              "      <td>M</td>\n",
              "      <td>True</td>\n",
              "      <td>True</td>\n",
              "      <td>0</td>\n",
              "      <td>Assalariado</td>\n",
              "      <td>Superior completo</td>\n",
              "      <td>Casado</td>\n",
              "      <td>Casa</td>\n",
              "      <td>28</td>\n",
              "      <td>7.183562</td>\n",
              "      <td>2.0</td>\n",
              "      <td>1852.15</td>\n",
              "    </tr>\n",
              "    <tr>\n",
              "      <th>2</th>\n",
              "      <td>2</td>\n",
              "      <td>2015-01-01</td>\n",
              "      <td>4312</td>\n",
              "      <td>F</td>\n",
              "      <td>True</td>\n",
              "      <td>True</td>\n",
              "      <td>0</td>\n",
              "      <td>Empresário</td>\n",
              "      <td>Superior completo</td>\n",
              "      <td>Casado</td>\n",
              "      <td>Casa</td>\n",
              "      <td>35</td>\n",
              "      <td>0.838356</td>\n",
              "      <td>2.0</td>\n",
              "      <td>2253.89</td>\n",
              "    </tr>\n",
              "    <tr>\n",
              "      <th>3</th>\n",
              "      <td>3</td>\n",
              "      <td>2015-01-01</td>\n",
              "      <td>10639</td>\n",
              "      <td>F</td>\n",
              "      <td>False</td>\n",
              "      <td>True</td>\n",
              "      <td>1</td>\n",
              "      <td>Servidor público</td>\n",
              "      <td>Superior completo</td>\n",
              "      <td>Casado</td>\n",
              "      <td>Casa</td>\n",
              "      <td>30</td>\n",
              "      <td>4.846575</td>\n",
              "      <td>3.0</td>\n",
              "      <td>6600.77</td>\n",
              "    </tr>\n",
              "    <tr>\n",
              "      <th>4</th>\n",
              "      <td>4</td>\n",
              "      <td>2015-01-01</td>\n",
              "      <td>7064</td>\n",
              "      <td>M</td>\n",
              "      <td>True</td>\n",
              "      <td>False</td>\n",
              "      <td>0</td>\n",
              "      <td>Assalariado</td>\n",
              "      <td>Secundário</td>\n",
              "      <td>Solteiro</td>\n",
              "      <td>Governamental</td>\n",
              "      <td>33</td>\n",
              "      <td>4.293151</td>\n",
              "      <td>1.0</td>\n",
              "      <td>6475.97</td>\n",
              "    </tr>\n",
              "  </tbody>\n",
              "</table>\n",
              "</div>\n",
              "      <button class=\"colab-df-convert\" onclick=\"convertToInteractive('df-bdefcd11-f707-4e6c-a0d3-5e078fa9d5b1')\"\n",
              "              title=\"Convert this dataframe to an interactive table.\"\n",
              "              style=\"display:none;\">\n",
              "        \n",
              "  <svg xmlns=\"http://www.w3.org/2000/svg\" height=\"24px\"viewBox=\"0 0 24 24\"\n",
              "       width=\"24px\">\n",
              "    <path d=\"M0 0h24v24H0V0z\" fill=\"none\"/>\n",
              "    <path d=\"M18.56 5.44l.94 2.06.94-2.06 2.06-.94-2.06-.94-.94-2.06-.94 2.06-2.06.94zm-11 1L8.5 8.5l.94-2.06 2.06-.94-2.06-.94L8.5 2.5l-.94 2.06-2.06.94zm10 10l.94 2.06.94-2.06 2.06-.94-2.06-.94-.94-2.06-.94 2.06-2.06.94z\"/><path d=\"M17.41 7.96l-1.37-1.37c-.4-.4-.92-.59-1.43-.59-.52 0-1.04.2-1.43.59L10.3 9.45l-7.72 7.72c-.78.78-.78 2.05 0 2.83L4 21.41c.39.39.9.59 1.41.59.51 0 1.02-.2 1.41-.59l7.78-7.78 2.81-2.81c.8-.78.8-2.07 0-2.86zM5.41 20L4 18.59l7.72-7.72 1.47 1.35L5.41 20z\"/>\n",
              "  </svg>\n",
              "      </button>\n",
              "      \n",
              "  <style>\n",
              "    .colab-df-container {\n",
              "      display:flex;\n",
              "      flex-wrap:wrap;\n",
              "      gap: 12px;\n",
              "    }\n",
              "\n",
              "    .colab-df-convert {\n",
              "      background-color: #E8F0FE;\n",
              "      border: none;\n",
              "      border-radius: 50%;\n",
              "      cursor: pointer;\n",
              "      display: none;\n",
              "      fill: #1967D2;\n",
              "      height: 32px;\n",
              "      padding: 0 0 0 0;\n",
              "      width: 32px;\n",
              "    }\n",
              "\n",
              "    .colab-df-convert:hover {\n",
              "      background-color: #E2EBFA;\n",
              "      box-shadow: 0px 1px 2px rgba(60, 64, 67, 0.3), 0px 1px 3px 1px rgba(60, 64, 67, 0.15);\n",
              "      fill: #174EA6;\n",
              "    }\n",
              "\n",
              "    [theme=dark] .colab-df-convert {\n",
              "      background-color: #3B4455;\n",
              "      fill: #D2E3FC;\n",
              "    }\n",
              "\n",
              "    [theme=dark] .colab-df-convert:hover {\n",
              "      background-color: #434B5C;\n",
              "      box-shadow: 0px 1px 3px 1px rgba(0, 0, 0, 0.15);\n",
              "      filter: drop-shadow(0px 1px 2px rgba(0, 0, 0, 0.3));\n",
              "      fill: #FFFFFF;\n",
              "    }\n",
              "  </style>\n",
              "\n",
              "      <script>\n",
              "        const buttonEl =\n",
              "          document.querySelector('#df-bdefcd11-f707-4e6c-a0d3-5e078fa9d5b1 button.colab-df-convert');\n",
              "        buttonEl.style.display =\n",
              "          google.colab.kernel.accessAllowed ? 'block' : 'none';\n",
              "\n",
              "        async function convertToInteractive(key) {\n",
              "          const element = document.querySelector('#df-bdefcd11-f707-4e6c-a0d3-5e078fa9d5b1');\n",
              "          const dataTable =\n",
              "            await google.colab.kernel.invokeFunction('convertToInteractive',\n",
              "                                                     [key], {});\n",
              "          if (!dataTable) return;\n",
              "\n",
              "          const docLinkHtml = 'Like what you see? Visit the ' +\n",
              "            '<a target=\"_blank\" href=https://colab.research.google.com/notebooks/data_table.ipynb>data table notebook</a>'\n",
              "            + ' to learn more about interactive tables.';\n",
              "          element.innerHTML = '';\n",
              "          dataTable['output_type'] = 'display_data';\n",
              "          await google.colab.output.renderOutput(dataTable, element);\n",
              "          const docLink = document.createElement('div');\n",
              "          docLink.innerHTML = docLinkHtml;\n",
              "          element.appendChild(docLink);\n",
              "        }\n",
              "      </script>\n",
              "    </div>\n",
              "  </div>\n",
              "  "
            ]
          },
          "metadata": {},
          "execution_count": 48
        }
      ]
    },
    {
      "cell_type": "code",
      "source": [
        "previsao_de_renda.info()"
      ],
      "metadata": {
        "colab": {
          "base_uri": "https://localhost:8080/"
        },
        "id": "jV6J62zDLZjA",
        "outputId": "b2bf9bba-63bf-498f-f529-25c04a9618e0"
      },
      "execution_count": 50,
      "outputs": [
        {
          "output_type": "stream",
          "name": "stdout",
          "text": [
            "<class 'pandas.core.frame.DataFrame'>\n",
            "RangeIndex: 15000 entries, 0 to 14999\n",
            "Data columns (total 15 columns):\n",
            " #   Column                 Non-Null Count  Dtype  \n",
            "---  ------                 --------------  -----  \n",
            " 0   Unnamed: 0             15000 non-null  int64  \n",
            " 1   data_ref               15000 non-null  object \n",
            " 2   id_cliente             15000 non-null  int64  \n",
            " 3   sexo                   15000 non-null  object \n",
            " 4   posse_de_veiculo       15000 non-null  bool   \n",
            " 5   posse_de_imovel        15000 non-null  bool   \n",
            " 6   qtd_filhos             15000 non-null  int64  \n",
            " 7   tipo_renda             15000 non-null  object \n",
            " 8   educacao               15000 non-null  object \n",
            " 9   estado_civil           15000 non-null  object \n",
            " 10  tipo_residencia        15000 non-null  object \n",
            " 11  idade                  15000 non-null  int64  \n",
            " 12  tempo_emprego          12427 non-null  float64\n",
            " 13  qt_pessoas_residencia  15000 non-null  float64\n",
            " 14  renda                  15000 non-null  float64\n",
            "dtypes: bool(2), float64(3), int64(4), object(6)\n",
            "memory usage: 1.5+ MB\n"
          ]
        }
      ]
    },
    {
      "cell_type": "markdown",
      "source": [
        "1. Ajuste um modelo de regressão linear simples para explicar renda como variável resposta, por tempo_emprego como variável explicativa. Observe que há muitas observações nessa tabela. Utilize os recursos que achar necessário."
      ],
      "metadata": {
        "id": "VbGRU8h082kk"
      }
    },
    {
      "cell_type": "code",
      "source": [
        "reg = smf.ols('renda ~ tempo_emprego', data =previsao_de_renda).fit()\n",
        "print(reg.summary())"
      ],
      "metadata": {
        "colab": {
          "base_uri": "https://localhost:8080/"
        },
        "id": "Nx7j110uLATP",
        "outputId": "76c2762f-f592-4068-b833-d12993b7b99c"
      },
      "execution_count": 51,
      "outputs": [
        {
          "output_type": "stream",
          "name": "stdout",
          "text": [
            "                            OLS Regression Results                            \n",
            "==============================================================================\n",
            "Dep. Variable:                  renda   R-squared:                       0.148\n",
            "Model:                            OLS   Adj. R-squared:                  0.148\n",
            "Method:                 Least Squares   F-statistic:                     2162.\n",
            "Date:                Sat, 11 Feb 2023   Prob (F-statistic):               0.00\n",
            "Time:                        20:35:56   Log-Likelihood:            -1.2963e+05\n",
            "No. Observations:               12427   AIC:                         2.593e+05\n",
            "Df Residuals:                   12425   BIC:                         2.593e+05\n",
            "Df Model:                           1                                         \n",
            "Covariance Type:            nonrobust                                         \n",
            "=================================================================================\n",
            "                    coef    std err          t      P>|t|      [0.025      0.975]\n",
            "---------------------------------------------------------------------------------\n",
            "Intercept      2177.9041    112.212     19.409      0.000    1957.951    2397.857\n",
            "tempo_emprego   510.0119     10.968     46.501      0.000     488.513     531.510\n",
            "==============================================================================\n",
            "Omnibus:                    17028.827   Durbin-Watson:                   2.031\n",
            "Prob(Omnibus):                  0.000   Jarque-Bera (JB):          7679294.474\n",
            "Skew:                           7.717   Prob(JB):                         0.00\n",
            "Kurtosis:                     123.800   Cond. No.                         15.7\n",
            "==============================================================================\n",
            "\n",
            "Notes:\n",
            "[1] Standard Errors assume that the covariance matrix of the errors is correctly specified.\n"
          ]
        }
      ]
    },
    {
      "cell_type": "markdown",
      "source": [
        "2. Faça uma análise de resíduos. Com os recursos vistos neste módulo, como você melhoraria esta regressão?"
      ],
      "metadata": {
        "id": "WEsanpAY82W9"
      }
    },
    {
      "cell_type": "code",
      "source": [
        "previsao_de_renda['res_tempo_emprego'] = reg.resid"
      ],
      "metadata": {
        "id": "vIN0xW_YMx8l"
      },
      "execution_count": 52,
      "outputs": []
    },
    {
      "cell_type": "code",
      "source": [
        "sns.regplot(y = 'renda', x = 'res_tempo_emprego', data = previsao_de_renda)"
      ],
      "metadata": {
        "colab": {
          "base_uri": "https://localhost:8080/",
          "height": 297
        },
        "id": "V_PxyKwmNEDP",
        "outputId": "518078df-963b-482b-e6f7-d6fd6941dea7"
      },
      "execution_count": 55,
      "outputs": [
        {
          "output_type": "execute_result",
          "data": {
            "text/plain": [
              "<matplotlib.axes._subplots.AxesSubplot at 0x7fc15c177790>"
            ]
          },
          "metadata": {},
          "execution_count": 55
        },
        {
          "output_type": "display_data",
          "data": {
            "text/plain": [
              "<Figure size 432x288 with 1 Axes>"
            ],
            "image/png": "[encoded data removed]"
          },
          "metadata": {
            "needs_background": "light"
          }
        }
      ]
    },
    {
      "cell_type": "markdown",
      "source": [
        "3. Ajuste um modelo de regressão linear múltipla para explicar renda (ou uma transformação de renda) de acordo com as demais variáveis."
      ],
      "metadata": {
        "id": "ifComE8Q81wb"
      }
    },
    {
      "cell_type": "code",
      "source": [
        "reg = smf.ols('renda ~ C(sexo) + C(posse_de_veiculo) + C(posse_de_imovel) + qtd_filhos + C(tipo_renda) +  C(educacao) + C(estado_civil) + C(tipo_residencia) + idade + tempo_emprego + qt_pessoas_residencia'\n",
        "              , data =previsao_de_renda).fit()\n",
        "print(reg.summary())"
      ],
      "metadata": {
        "colab": {
          "base_uri": "https://localhost:8080/"
        },
        "id": "C5IiiYWLN5MF",
        "outputId": "b47cd391-785a-4ed6-a3e1-712fcc60c6c6"
      },
      "execution_count": 86,
      "outputs": [
        {
          "output_type": "stream",
          "name": "stdout",
          "text": [
            "                            OLS Regression Results                            \n",
            "==============================================================================\n",
            "Dep. Variable:                  renda   R-squared:                       0.256\n",
            "Model:                            OLS   Adj. R-squared:                  0.255\n",
            "Method:                 Least Squares   F-statistic:                     178.0\n",
            "Date:                Sat, 11 Feb 2023   Prob (F-statistic):               0.00\n",
            "Time:                        21:35:51   Log-Likelihood:            -1.2879e+05\n",
            "No. Observations:               12427   AIC:                         2.576e+05\n",
            "Df Residuals:                   12402   BIC:                         2.578e+05\n",
            "Df Model:                          24                                         \n",
            "Covariance Type:            nonrobust                                         \n",
            "=======================================================================================================\n",
            "                                          coef    std err          t      P>|t|      [0.025      0.975]\n",
            "-------------------------------------------------------------------------------------------------------\n",
            "Intercept                           -5626.6247   2500.235     -2.250      0.024   -1.05e+04    -725.776\n",
            "C(sexo)[T.M]                         6052.8592    155.859     38.836      0.000    5747.352    6358.367\n",
            "C(posse_de_veiculo)[T.True]            48.9098    150.374      0.325      0.745    -245.846     343.666\n",
            "C(posse_de_imovel)[T.True]            366.5747    148.723      2.465      0.014      75.054     658.095\n",
            "C(tipo_renda)[T.Bolsista]           -1357.7175   2564.833     -0.529      0.597   -6385.188    3669.753\n",
            "C(tipo_renda)[T.Empresário]           823.1460    158.826      5.183      0.000     511.822    1134.470\n",
            "C(tipo_renda)[T.Pensionista]        -2682.6331   2565.489     -1.046      0.296   -7711.391    2346.125\n",
            "C(tipo_renda)[T.Servidor público]     137.0942    236.327      0.580      0.562    -326.143     600.332\n",
            "C(educacao)[T.Pós graduação]         1090.5064   1690.396      0.645      0.519   -2222.932    4403.945\n",
            "C(educacao)[T.Secundário]             607.3280    765.686      0.793      0.428    -893.536    2108.192\n",
            "C(educacao)[T.Superior completo]     1225.5587    768.564      1.595      0.111    -280.947    2732.064\n",
            "C(educacao)[T.Superior incompleto]    220.4722    827.097      0.267      0.790   -1400.767    1841.712\n",
            "C(estado_civil)[T.Separado]          1161.1096   1182.969      0.982      0.326   -1157.693    3479.912\n",
            "C(estado_civil)[T.Solteiro]           819.9016   1158.206      0.708      0.479   -1450.362    3090.165\n",
            "C(estado_civil)[T.União]             -475.3334    267.717     -1.776      0.076   -1000.101      49.434\n",
            "C(estado_civil)[T.Viúvo]             1053.5626   1229.396      0.857      0.391   -1356.245    3463.370\n",
            "C(tipo_residencia)[T.Casa]           -298.3088    575.821     -0.518      0.604   -1427.008     830.390\n",
            "C(tipo_residencia)[T.Com os pais]    -388.7990    641.844     -0.606      0.545   -1646.914     869.316\n",
            "C(tipo_residencia)[T.Comunitário]    -459.8284   1120.521     -0.410      0.682   -2656.224    1736.567\n",
            "C(tipo_residencia)[T.Estúdio]          77.2381   1056.186      0.073      0.942   -1993.051    2147.527\n",
            "C(tipo_residencia)[T.Governamental]    73.8042    701.702      0.105      0.916   -1301.641    1449.249\n",
            "qtd_filhos                          -1126.6107   1147.916     -0.981      0.326   -3376.703    1123.482\n",
            "idade                                  42.0025      8.517      4.931      0.000      25.307      58.698\n",
            "tempo_emprego                         554.7551     11.044     50.230      0.000     533.107     576.404\n",
            "qt_pessoas_residencia                1269.8493   1145.868      1.108      0.268    -976.229    3515.928\n",
            "==============================================================================\n",
            "Omnibus:                    17568.773   Durbin-Watson:                   2.034\n",
            "Prob(Omnibus):                  0.000   Jarque-Bera (JB):          9884998.164\n",
            "Skew:                           8.125   Prob(JB):                         0.00\n",
            "Kurtosis:                     140.210   Cond. No.                     2.18e+03\n",
            "==============================================================================\n",
            "\n",
            "Notes:\n",
            "[1] Standard Errors assume that the covariance matrix of the errors is correctly specified.\n",
            "[2] The condition number is large, 2.18e+03. This might indicate that there are\n",
            "strong multicollinearity or other numerical problems.\n"
          ]
        }
      ]
    },
    {
      "cell_type": "markdown",
      "source": [],
      "metadata": {
        "id": "y8Y-RW8NfBcm"
      }
    },
    {
      "cell_type": "markdown",
      "source": [
        "4. Remova as variáveis não significantes e ajuste novamente o modelo. Interprete os parâmetros"
      ],
      "metadata": {
        "id": "vk7S89qr81nb"
      }
    },
    {
      "cell_type": "markdown",
      "source": [
        "**Comentário para o Professor Marcus Thiago:** *Marcus, nesse ponto aqui eu queria saber se é possível tirar apenas um determinado tipo de renda, por exemplo: C(tipo_renda)[T.Bolsista] tem um P>|t| = 0.696, ou seja, não é uma variável 'útil'. Porém C(tipo_renda)[T.Empresário] tem um P>|t| = 0.000, já é mais útil para um modelo.*\n",
        "\n",
        "*Eu até poderia criar uma nova base de dados apenas com o (tipo_renda)[T.Empresário], porém, não sei se é o caminho mais fácil e vou além, nem sei se é o caminho que devo seguir, pq daí eu meio que estaria 'jogando fora' todas as informações dos outros tipos de renda.*"
      ],
      "metadata": {
        "id": "zrZEBfEtdMpx"
      }
    },
    {
      "cell_type": "code",
      "source": [
        "reg = smf.ols('renda ~ C(sexo) + C(posse_de_imovel) + C(tipo_renda) + C(estado_civil) + idade + tempo_emprego'\n",
        "              , data =previsao_de_renda).fit()\n",
        "print(reg.summary())"
      ],
      "metadata": {
        "colab": {
          "base_uri": "https://localhost:8080/"
        },
        "id": "zL2GKqrPPwuQ",
        "outputId": "08e5a9e0-03ac-4439-d8cb-1536ebb28160"
      },
      "execution_count": 93,
      "outputs": [
        {
          "output_type": "stream",
          "name": "stdout",
          "text": [
            "                            OLS Regression Results                            \n",
            "==============================================================================\n",
            "Dep. Variable:                  renda   R-squared:                       0.255\n",
            "Model:                            OLS   Adj. R-squared:                  0.254\n",
            "Method:                 Least Squares   F-statistic:                     353.3\n",
            "Date:                Sat, 11 Feb 2023   Prob (F-statistic):               0.00\n",
            "Time:                        21:39:06   Log-Likelihood:            -1.2880e+05\n",
            "No. Observations:               12427   AIC:                         2.576e+05\n",
            "Df Residuals:                   12414   BIC:                         2.577e+05\n",
            "Df Model:                          12                                         \n",
            "Covariance Type:            nonrobust                                         \n",
            "=====================================================================================================\n",
            "                                        coef    std err          t      P>|t|      [0.025      0.975]\n",
            "-----------------------------------------------------------------------------------------------------\n",
            "Intercept                         -2292.5964    344.307     -6.659      0.000   -2967.491   -1617.702\n",
            "C(sexo)[T.M]                       6049.3529    147.462     41.023      0.000    5760.303    6338.402\n",
            "C(posse_de_imovel)[T.True]          386.4445    145.708      2.652      0.008     100.834     672.055\n",
            "C(tipo_renda)[T.Bolsista]         -1001.1383   2563.642     -0.391      0.696   -6026.274    4023.998\n",
            "C(tipo_renda)[T.Empresário]         874.9739    157.750      5.547      0.000     565.759    1184.188\n",
            "C(tipo_renda)[T.Pensionista]      -2307.5082   2565.544     -0.899      0.368   -7336.373    2721.356\n",
            "C(tipo_renda)[T.Servidor público]   254.9045    235.018      1.085      0.278    -205.767     715.577\n",
            "C(estado_civil)[T.Separado]        -104.3154    296.290     -0.352      0.725    -685.090     476.459\n",
            "C(estado_civil)[T.Solteiro]        -497.4363    213.321     -2.332      0.020    -915.579     -79.294\n",
            "C(estado_civil)[T.União]           -534.6823    266.701     -2.005      0.045   -1057.458     -11.907\n",
            "C(estado_civil)[T.Viúvo]           -273.1259    442.716     -0.617      0.537   -1140.918     594.667\n",
            "idade                                37.0686      7.978      4.647      0.000      21.431      52.706\n",
            "tempo_emprego                       555.5126     11.026     50.380      0.000     533.899     577.126\n",
            "==============================================================================\n",
            "Omnibus:                    17538.934   Durbin-Watson:                   2.036\n",
            "Prob(Omnibus):                  0.000   Jarque-Bera (JB):          9788425.832\n",
            "Skew:                           8.100   Prob(JB):                         0.00\n",
            "Kurtosis:                     139.535   Cond. No.                     1.58e+03\n",
            "==============================================================================\n",
            "\n",
            "Notes:\n",
            "[1] Standard Errors assume that the covariance matrix of the errors is correctly specified.\n",
            "[2] The condition number is large, 1.58e+03. This might indicate that there are\n",
            "strong multicollinearity or other numerical problems.\n"
          ]
        }
      ]
    },
    {
      "cell_type": "markdown",
      "source": [
        "5. Faça uma análise de resíduos. Avalie a qualidade do ajuste."
      ],
      "metadata": {
        "id": "7r78YtN781Wn"
      }
    }
  ],
  "metadata": {
    "kernelspec": {
      "display_name": "Python 3",
      "language": "python",
      "name": "python3"
    },
    "language_info": {
      "codemirror_mode": {
        "name": "ipython",
        "version": 3
      },
      "file_extension": ".py",
      "mimetype": "text/x-python",
      "name": "python",
      "nbconvert_exporter": "python",
      "pygments_lexer": "ipython3",
      "version": "3.8.5"
    },
    "colab": {
      "provenance": []
    }
  },
  "nbformat": 4,
  "nbformat_minor": 0
}