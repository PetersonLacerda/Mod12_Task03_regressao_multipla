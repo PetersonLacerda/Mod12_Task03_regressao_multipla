{
  "cells": [
    {
      "cell_type": "markdown",
      "metadata": {
        "id": "P7XPiIx5jaD7"
      },
      "source": [
        "# Regressão 01 - tarefa 03 - transformações em X e Y"
      ]
    },
    {
      "cell_type": "markdown",
      "source": [
        "Carregue os pacotes necessários e a base de gorjetas."
      ],
      "metadata": {
        "id": "2sEfRrM49CeO"
      }
    },
    {
      "cell_type": "code",
      "source": [
        "import pandas as pd\n",
        "import seaborn as sns\n",
        "from seaborn import load_dataset\n",
        "import matplotlib.pyplot as plt\n",
        "import numpy as np\n",
        "\n",
        "import patsy\n",
        "import statsmodels.api as sm\n",
        "import statsmodels.formula.api as smf\n",
        "\n",
        "%matplotlib inline"
      ],
      "metadata": {
        "id": "FGRF99kO9HyG"
      },
      "execution_count": 30,
      "outputs": []
    },
    {
      "cell_type": "code",
      "source": [
        "tips = sns.load_dataset('tips')\n",
        "tips['tip_pct'] = tips['tip']/ (tips['total_bill'] - tips['tip'])\n",
        "tips['net_bill'] = tips['total_bill'] - tips['tip']\n",
        "tips.head()"
      ],
      "metadata": {
        "colab": {
          "base_uri": "https://localhost:8080/",
          "height": 206
        },
        "id": "8cVHmRq79OPi",
        "outputId": "2fec1a2b-9868-4b82-ea9d-c35f02ccd501"
      },
      "execution_count": 31,
      "outputs": [
        {
          "output_type": "execute_result",
          "data": {
            "text/plain": [
              "   total_bill   tip     sex smoker  day    time  size   tip_pct  net_bill\n",
              "0       16.99  1.01  Female     No  Sun  Dinner     2  0.063204     15.98\n",
              "1       10.34  1.66    Male     No  Sun  Dinner     3  0.191244      8.68\n",
              "2       21.01  3.50    Male     No  Sun  Dinner     3  0.199886     17.51\n",
              "3       23.68  3.31    Male     No  Sun  Dinner     2  0.162494     20.37\n",
              "4       24.59  3.61  Female     No  Sun  Dinner     4  0.172069     20.98"
            ],
            "text/html": [
              "\n",
              "  <div id=\"df-def6df43-95c4-4776-9fc9-afc88cfd60f0\">\n",
              "    <div class=\"colab-df-container\">\n",
              "      <div>\n",
              "<style scoped>\n",
              "    .dataframe tbody tr th:only-of-type {\n",
              "        vertical-align: middle;\n",
              "    }\n",
              "\n",
              "    .dataframe tbody tr th {\n",
              "        vertical-align: top;\n",
              "    }\n",
              "\n",
              "    .dataframe thead th {\n",
              "        text-align: right;\n",
              "    }\n",
              "</style>\n",
              "<table border=\"1\" class=\"dataframe\">\n",
              "  <thead>\n",
              "    <tr style=\"text-align: right;\">\n",
              "      <th></th>\n",
              "      <th>total_bill</th>\n",
              "      <th>tip</th>\n",
              "      <th>sex</th>\n",
              "      <th>smoker</th>\n",
              "      <th>day</th>\n",
              "      <th>time</th>\n",
              "      <th>size</th>\n",
              "      <th>tip_pct</th>\n",
              "      <th>net_bill</th>\n",
              "    </tr>\n",
              "  </thead>\n",
              "  <tbody>\n",
              "    <tr>\n",
              "      <th>0</th>\n",
              "      <td>16.99</td>\n",
              "      <td>1.01</td>\n",
              "      <td>Female</td>\n",
              "      <td>No</td>\n",
              "      <td>Sun</td>\n",
              "      <td>Dinner</td>\n",
              "      <td>2</td>\n",
              "      <td>0.063204</td>\n",
              "      <td>15.98</td>\n",
              "    </tr>\n",
              "    <tr>\n",
              "      <th>1</th>\n",
              "      <td>10.34</td>\n",
              "      <td>1.66</td>\n",
              "      <td>Male</td>\n",
              "      <td>No</td>\n",
              "      <td>Sun</td>\n",
              "      <td>Dinner</td>\n",
              "      <td>3</td>\n",
              "      <td>0.191244</td>\n",
              "      <td>8.68</td>\n",
              "    </tr>\n",
              "    <tr>\n",
              "      <th>2</th>\n",
              "      <td>21.01</td>\n",
              "      <td>3.50</td>\n",
              "      <td>Male</td>\n",
              "      <td>No</td>\n",
              "      <td>Sun</td>\n",
              "      <td>Dinner</td>\n",
              "      <td>3</td>\n",
              "      <td>0.199886</td>\n",
              "      <td>17.51</td>\n",
              "    </tr>\n",
              "    <tr>\n",
              "      <th>3</th>\n",
              "      <td>23.68</td>\n",
              "      <td>3.31</td>\n",
              "      <td>Male</td>\n",
              "      <td>No</td>\n",
              "      <td>Sun</td>\n",
              "      <td>Dinner</td>\n",
              "      <td>2</td>\n",
              "      <td>0.162494</td>\n",
              "      <td>20.37</td>\n",
              "    </tr>\n",
              "    <tr>\n",
              "      <th>4</th>\n",
              "      <td>24.59</td>\n",
              "      <td>3.61</td>\n",
              "      <td>Female</td>\n",
              "      <td>No</td>\n",
              "      <td>Sun</td>\n",
              "      <td>Dinner</td>\n",
              "      <td>4</td>\n",
              "      <td>0.172069</td>\n",
              "      <td>20.98</td>\n",
              "    </tr>\n",
              "  </tbody>\n",
              "</table>\n",
              "</div>\n",
              "      <button class=\"colab-df-convert\" onclick=\"convertToInteractive('df-def6df43-95c4-4776-9fc9-afc88cfd60f0')\"\n",
              "              title=\"Convert this dataframe to an interactive table.\"\n",
              "              style=\"display:none;\">\n",
              "        \n",
              "  <svg xmlns=\"http://www.w3.org/2000/svg\" height=\"24px\"viewBox=\"0 0 24 24\"\n",
              "       width=\"24px\">\n",
              "    <path d=\"M0 0h24v24H0V0z\" fill=\"none\"/>\n",
              "    <path d=\"M18.56 5.44l.94 2.06.94-2.06 2.06-.94-2.06-.94-.94-2.06-.94 2.06-2.06.94zm-11 1L8.5 8.5l.94-2.06 2.06-.94-2.06-.94L8.5 2.5l-.94 2.06-2.06.94zm10 10l.94 2.06.94-2.06 2.06-.94-2.06-.94-.94-2.06-.94 2.06-2.06.94z\"/><path d=\"M17.41 7.96l-1.37-1.37c-.4-.4-.92-.59-1.43-.59-.52 0-1.04.2-1.43.59L10.3 9.45l-7.72 7.72c-.78.78-.78 2.05 0 2.83L4 21.41c.39.39.9.59 1.41.59.51 0 1.02-.2 1.41-.59l7.78-7.78 2.81-2.81c.8-.78.8-2.07 0-2.86zM5.41 20L4 18.59l7.72-7.72 1.47 1.35L5.41 20z\"/>\n",
              "  </svg>\n",
              "      </button>\n",
              "      \n",
              "  <style>\n",
              "    .colab-df-container {\n",
              "      display:flex;\n",
              "      flex-wrap:wrap;\n",
              "      gap: 12px;\n",
              "    }\n",
              "\n",
              "    .colab-df-convert {\n",
              "      background-color: #E8F0FE;\n",
              "      border: none;\n",
              "      border-radius: 50%;\n",
              "      cursor: pointer;\n",
              "      display: none;\n",
              "      fill: #1967D2;\n",
              "      height: 32px;\n",
              "      padding: 0 0 0 0;\n",
              "      width: 32px;\n",
              "    }\n",
              "\n",
              "    .colab-df-convert:hover {\n",
              "      background-color: #E2EBFA;\n",
              "      box-shadow: 0px 1px 2px rgba(60, 64, 67, 0.3), 0px 1px 3px 1px rgba(60, 64, 67, 0.15);\n",
              "      fill: #174EA6;\n",
              "    }\n",
              "\n",
              "    [theme=dark] .colab-df-convert {\n",
              "      background-color: #3B4455;\n",
              "      fill: #D2E3FC;\n",
              "    }\n",
              "\n",
              "    [theme=dark] .colab-df-convert:hover {\n",
              "      background-color: #434B5C;\n",
              "      box-shadow: 0px 1px 3px 1px rgba(0, 0, 0, 0.15);\n",
              "      filter: drop-shadow(0px 1px 2px rgba(0, 0, 0, 0.3));\n",
              "      fill: #FFFFFF;\n",
              "    }\n",
              "  </style>\n",
              "\n",
              "      <script>\n",
              "        const buttonEl =\n",
              "          document.querySelector('#df-def6df43-95c4-4776-9fc9-afc88cfd60f0 button.colab-df-convert');\n",
              "        buttonEl.style.display =\n",
              "          google.colab.kernel.accessAllowed ? 'block' : 'none';\n",
              "\n",
              "        async function convertToInteractive(key) {\n",
              "          const element = document.querySelector('#df-def6df43-95c4-4776-9fc9-afc88cfd60f0');\n",
              "          const dataTable =\n",
              "            await google.colab.kernel.invokeFunction('convertToInteractive',\n",
              "                                                     [key], {});\n",
              "          if (!dataTable) return;\n",
              "\n",
              "          const docLinkHtml = 'Like what you see? Visit the ' +\n",
              "            '<a target=\"_blank\" href=https://colab.research.google.com/notebooks/data_table.ipynb>data table notebook</a>'\n",
              "            + ' to learn more about interactive tables.';\n",
              "          element.innerHTML = '';\n",
              "          dataTable['output_type'] = 'display_data';\n",
              "          await google.colab.output.renderOutput(dataTable, element);\n",
              "          const docLink = document.createElement('div');\n",
              "          docLink.innerHTML = docLinkHtml;\n",
              "          element.appendChild(docLink);\n",
              "        }\n",
              "      </script>\n",
              "    </div>\n",
              "  </div>\n",
              "  "
            ]
          },
          "metadata": {},
          "execution_count": 31
        }
      ]
    },
    {
      "cell_type": "markdown",
      "source": [
        "### I. Modelo no valor da gorjeta"
      ],
      "metadata": {
        "id": "waeuW70X9wHt"
      }
    },
    {
      "cell_type": "markdown",
      "source": [
        "1. Crie a matriz de design (e a matriz y) utilizando o Patsy, para um modelo em ```tip```, explicada por ```sex, smoker, diner e net_bill```. "
      ],
      "metadata": {
        "id": "-8y2-0nK9zh5"
      }
    },
    {
      "cell_type": "code",
      "source": [
        "reg = smf.ols('tip ~ sex + C(smoker) + C(time) + net_bill', data =tips).fit()"
      ],
      "metadata": {
        "id": "Mr0oPrXA93WE"
      },
      "execution_count": 32,
      "outputs": []
    },
    {
      "cell_type": "code",
      "source": [
        "print(reg.summary())"
      ],
      "metadata": {
        "colab": {
          "base_uri": "https://localhost:8080/"
        },
        "id": "-d3mFQFRG-5c",
        "outputId": "1298ac2f-317e-43e5-9189-0e23ff5cf323"
      },
      "execution_count": 33,
      "outputs": [
        {
          "output_type": "stream",
          "name": "stdout",
          "text": [
            "                            OLS Regression Results                            \n",
            "==============================================================================\n",
            "Dep. Variable:                    tip   R-squared:                       0.335\n",
            "Model:                            OLS   Adj. R-squared:                  0.324\n",
            "Method:                 Least Squares   F-statistic:                     30.13\n",
            "Date:                Mon, 13 Feb 2023   Prob (F-statistic):           2.64e-20\n",
            "Time:                        13:07:35   Log-Likelihood:                -375.13\n",
            "No. Observations:                 244   AIC:                             760.3\n",
            "Df Residuals:                     239   BIC:                             777.8\n",
            "Df Model:                           4                                         \n",
            "Covariance Type:            nonrobust                                         \n",
            "=====================================================================================\n",
            "                        coef    std err          t      P>|t|      [0.025      0.975]\n",
            "-------------------------------------------------------------------------------------\n",
            "Intercept             1.1999      0.242      4.952      0.000       0.723       1.677\n",
            "sex[T.Female]        -0.0034      0.156     -0.022      0.982      -0.311       0.305\n",
            "C(smoker)[T.No]       0.1405      0.151      0.932      0.352      -0.156       0.437\n",
            "C(time)[T.Dinner]     0.0584      0.168      0.347      0.729      -0.273       0.390\n",
            "net_bill              0.0995      0.009     10.662      0.000       0.081       0.118\n",
            "==============================================================================\n",
            "Omnibus:                       36.537   Durbin-Watson:                   2.121\n",
            "Prob(Omnibus):                  0.000   Jarque-Bera (JB):               65.875\n",
            "Skew:                           0.800   Prob(JB):                     4.96e-15\n",
            "Kurtosis:                       4.980   Cond. No.                         71.2\n",
            "==============================================================================\n",
            "\n",
            "Notes:\n",
            "[1] Standard Errors assume that the covariance matrix of the errors is correctly specified.\n"
          ]
        }
      ]
    },
    {
      "cell_type": "markdown",
      "source": [
        "2. Remova as variáveis não significantes."
      ],
      "metadata": {
        "id": "LGYcPJ-PI3xU"
      }
    },
    {
      "cell_type": "code",
      "source": [
        "reg = smf.ols('tip ~ net_bill', data =tips).fit()"
      ],
      "metadata": {
        "id": "gwlYFE60I_A7"
      },
      "execution_count": 34,
      "outputs": []
    },
    {
      "cell_type": "code",
      "source": [
        "print(reg.summary())"
      ],
      "metadata": {
        "colab": {
          "base_uri": "https://localhost:8080/"
        },
        "id": "_O3OCH37J_ez",
        "outputId": "398bcfd5-65fe-4fcd-bfef-f2f1dd21ed4d"
      },
      "execution_count": 35,
      "outputs": [
        {
          "output_type": "stream",
          "name": "stdout",
          "text": [
            "                            OLS Regression Results                            \n",
            "==============================================================================\n",
            "Dep. Variable:                    tip   R-squared:                       0.333\n",
            "Model:                            OLS   Adj. R-squared:                  0.330\n",
            "Method:                 Least Squares   F-statistic:                     120.6\n",
            "Date:                Mon, 13 Feb 2023   Prob (F-statistic):           5.02e-23\n",
            "Time:                        13:07:35   Log-Likelihood:                -375.63\n",
            "No. Observations:                 244   AIC:                             755.3\n",
            "Df Residuals:                     242   BIC:                             762.3\n",
            "Df Model:                           1                                         \n",
            "Covariance Type:            nonrobust                                         \n",
            "==============================================================================\n",
            "                 coef    std err          t      P>|t|      [0.025      0.975]\n",
            "------------------------------------------------------------------------------\n",
            "Intercept      1.3307      0.168      7.907      0.000       0.999       1.662\n",
            "net_bill       0.0993      0.009     10.980      0.000       0.082       0.117\n",
            "==============================================================================\n",
            "Omnibus:                       33.873   Durbin-Watson:                   2.123\n",
            "Prob(Omnibus):                  0.000   Jarque-Bera (JB):               59.942\n",
            "Skew:                           0.754   Prob(JB):                     9.63e-14\n",
            "Kurtosis:                       4.903   Cond. No.                         43.3\n",
            "==============================================================================\n",
            "\n",
            "Notes:\n",
            "[1] Standard Errors assume that the covariance matrix of the errors is correctly specified.\n"
          ]
        }
      ]
    },
    {
      "cell_type": "markdown",
      "source": [
        "3. observe o gráfico de resíduos em função de net_bill"
      ],
      "metadata": {
        "id": "4GDRqZgzKUMi"
      }
    },
    {
      "cell_type": "code",
      "source": [
        "tips['res_tip'] = reg.resid"
      ],
      "metadata": {
        "id": "SutMweX5KO2q"
      },
      "execution_count": 36,
      "outputs": []
    },
    {
      "cell_type": "code",
      "source": [
        "sns.scatterplot(x = 'tip', y = 'res_tip', data = tips)\n",
        "plt.axhline(y=0, color='r', linestyle='--')"
      ],
      "metadata": {
        "colab": {
          "base_uri": "https://localhost:8080/",
          "height": 300
        },
        "id": "OiOu5IC0Lhmu",
        "outputId": "ca6bab52-41e7-4d4e-9259-f730fb6f752a"
      },
      "execution_count": 37,
      "outputs": [
        {
          "output_type": "execute_result",
          "data": {
            "text/plain": [
              "<matplotlib.lines.Line2D at 0x7f49273577c0>"
            ]
          },
          "metadata": {},
          "execution_count": 37
        },
        {
          "output_type": "display_data",
          "data": {
            "text/plain": [
              "<Figure size 432x288 with 1 Axes>"
            ],
            "image/png": "[encoded data removed]"
          },
          "metadata": {
            "needs_background": "light"
          }
        }
      ]
    },
    {
      "cell_type": "markdown",
      "source": [
        "4. teste transformar net_bill no log e um polinômio. Escolha o melhor modelo."
      ],
      "metadata": {
        "id": "tqJkmb0ctPv7"
      }
    },
    {
      "cell_type": "markdown",
      "source": [
        "*Conforme veremos abaixo, entre o modelo com o log versus o modelo com o polinômio, o segundo (polinômio) tem um melhor r-quadrado: 0.30 e o gráfico do resíduo começa a mostrar uma curva 'concava'.*"
      ],
      "metadata": {
        "id": "g_qdkYqDvfeD"
      }
    },
    {
      "cell_type": "code",
      "source": [
        "reg = smf.ols('tip ~ np.log(net_bill)', data =tips).fit()\n",
        "print(reg.summary())"
      ],
      "metadata": {
        "colab": {
          "base_uri": "https://localhost:8080/"
        },
        "id": "e7jP7DAgtZbw",
        "outputId": "5439a37a-71de-46ea-b6d0-cfae48a8887e"
      },
      "execution_count": 38,
      "outputs": [
        {
          "output_type": "stream",
          "name": "stdout",
          "text": [
            "                            OLS Regression Results                            \n",
            "==============================================================================\n",
            "Dep. Variable:                    tip   R-squared:                       0.294\n",
            "Model:                            OLS   Adj. R-squared:                  0.292\n",
            "Method:                 Least Squares   F-statistic:                     101.0\n",
            "Date:                Mon, 13 Feb 2023   Prob (F-statistic):           4.40e-20\n",
            "Time:                        13:07:35   Log-Likelihood:                -382.40\n",
            "No. Observations:                 244   AIC:                             768.8\n",
            "Df Residuals:                     242   BIC:                             775.8\n",
            "Df Model:                           1                                         \n",
            "Covariance Type:            nonrobust                                         \n",
            "====================================================================================\n",
            "                       coef    std err          t      P>|t|      [0.025      0.975]\n",
            "------------------------------------------------------------------------------------\n",
            "Intercept           -1.2575      0.430     -2.924      0.004      -2.104      -0.410\n",
            "np.log(net_bill)     1.5695      0.156     10.049      0.000       1.262       1.877\n",
            "==============================================================================\n",
            "Omnibus:                       73.945   Durbin-Watson:                   2.045\n",
            "Prob(Omnibus):                  0.000   Jarque-Bera (JB):              221.148\n",
            "Skew:                           1.303   Prob(JB):                     9.51e-49\n",
            "Kurtosis:                       6.868   Cond. No.                         17.9\n",
            "==============================================================================\n",
            "\n",
            "Notes:\n",
            "[1] Standard Errors assume that the covariance matrix of the errors is correctly specified.\n"
          ]
        }
      ]
    },
    {
      "cell_type": "code",
      "source": [
        "tips['res_log_net_bill'] = reg.resid"
      ],
      "metadata": {
        "id": "fkmDViOwuRQ7"
      },
      "execution_count": 39,
      "outputs": []
    },
    {
      "cell_type": "code",
      "source": [
        "sns.scatterplot(x = 'tip', y = 'res_log_net_bill', data = tips)\n",
        "plt.axhline(y=0, color='r', linestyle='--')"
      ],
      "metadata": {
        "colab": {
          "base_uri": "https://localhost:8080/",
          "height": 296
        },
        "id": "-JShbYupuZtx",
        "outputId": "e64594d1-f156-4737-9e5e-479ec1ebf135"
      },
      "execution_count": 40,
      "outputs": [
        {
          "output_type": "execute_result",
          "data": {
            "text/plain": [
              "<matplotlib.lines.Line2D at 0x7f4927340cd0>"
            ]
          },
          "metadata": {},
          "execution_count": 40
        },
        {
          "output_type": "display_data",
          "data": {
            "text/plain": [
              "<Figure size 432x288 with 1 Axes>"
            ],
            "image/png": "[encoded data removed]"
          },
          "metadata": {
            "needs_background": "light"
          }
        }
      ]
    },
    {
      "cell_type": "code",
      "source": [
        "reg = smf.ols('tip ~ np.power(net_bill,2)', data =tips).fit()\n",
        "print(reg.summary())"
      ],
      "metadata": {
        "colab": {
          "base_uri": "https://localhost:8080/"
        },
        "id": "MeBxdx75u4jk",
        "outputId": "4fa7ce47-7fb6-43eb-aaac-c533aa611b2b"
      },
      "execution_count": 41,
      "outputs": [
        {
          "output_type": "stream",
          "name": "stdout",
          "text": [
            "                            OLS Regression Results                            \n",
            "==============================================================================\n",
            "Dep. Variable:                    tip   R-squared:                       0.301\n",
            "Model:                            OLS   Adj. R-squared:                  0.298\n",
            "Method:                 Least Squares   F-statistic:                     104.1\n",
            "Date:                Mon, 13 Feb 2023   Prob (F-statistic):           1.47e-20\n",
            "Time:                        13:07:35   Log-Likelihood:                -381.31\n",
            "No. Observations:                 244   AIC:                             766.6\n",
            "Df Residuals:                     242   BIC:                             773.6\n",
            "Df Model:                           1                                         \n",
            "Covariance Type:            nonrobust                                         \n",
            "=========================================================================================\n",
            "                            coef    std err          t      P>|t|      [0.025      0.975]\n",
            "-----------------------------------------------------------------------------------------\n",
            "Intercept                 2.2566      0.104     21.720      0.000       2.052       2.461\n",
            "np.power(net_bill, 2)     0.0021      0.000     10.202      0.000       0.002       0.003\n",
            "==============================================================================\n",
            "Omnibus:                       22.756   Durbin-Watson:                   2.184\n",
            "Prob(Omnibus):                  0.000   Jarque-Bera (JB):               31.466\n",
            "Skew:                           0.620   Prob(JB):                     1.47e-07\n",
            "Kurtosis:                       4.248   Cond. No.                         692.\n",
            "==============================================================================\n",
            "\n",
            "Notes:\n",
            "[1] Standard Errors assume that the covariance matrix of the errors is correctly specified.\n"
          ]
        }
      ]
    },
    {
      "cell_type": "code",
      "source": [
        "tips['res_poli_net_bill'] = reg.resid"
      ],
      "metadata": {
        "id": "xnboclk4vQQ-"
      },
      "execution_count": 42,
      "outputs": []
    },
    {
      "cell_type": "code",
      "source": [
        "sns.scatterplot(x = 'tip', y = 'res_poli_net_bill', data = tips)\n",
        "plt.axhline(y=0, color='r', linestyle='--')"
      ],
      "metadata": {
        "colab": {
          "base_uri": "https://localhost:8080/",
          "height": 296
        },
        "id": "myXZJYcUvXeC",
        "outputId": "280fc4b7-1900-444b-a280-b0dbaf3a8bc8"
      },
      "execution_count": 43,
      "outputs": [
        {
          "output_type": "execute_result",
          "data": {
            "text/plain": [
              "<matplotlib.lines.Line2D at 0x7f49272903d0>"
            ]
          },
          "metadata": {},
          "execution_count": 43
        },
        {
          "output_type": "display_data",
          "data": {
            "text/plain": [
              "<Figure size 432x288 with 1 Axes>"
            ],
            "image/png": "[encoded data removed]"
          },
          "metadata": {
            "needs_background": "light"
          }
        }
      ]
    },
    {
      "cell_type": "markdown",
      "source": [
        "II. Modelo no valor do percentual da gorjeta"
      ],
      "metadata": {
        "id": "xAPWCci-yE3r"
      }
    },
    {
      "cell_type": "markdown",
      "source": [
        "1. Crie a matriz de design (e a matriz y) utilizando o Patsy, para um modelo no log de tip, explicado por sex, smoker, diner e net_bill."
      ],
      "metadata": {
        "id": "gt0PJjlTyHsz"
      }
    },
    {
      "cell_type": "code",
      "source": [
        "reg = smf.ols('np.log(tip) ~ sex + C(smoker) + C(time) + net_bill', data =tips).fit()\n",
        "print(reg.summary())"
      ],
      "metadata": {
        "colab": {
          "base_uri": "https://localhost:8080/"
        },
        "id": "Z26SAVSByCdD",
        "outputId": "aa26bbba-7f45-4a57-ed12-c51702b09efd"
      },
      "execution_count": 44,
      "outputs": [
        {
          "output_type": "stream",
          "name": "stdout",
          "text": [
            "                            OLS Regression Results                            \n",
            "==============================================================================\n",
            "Dep. Variable:            np.log(tip)   R-squared:                       0.313\n",
            "Model:                            OLS   Adj. R-squared:                  0.302\n",
            "Method:                 Least Squares   F-statistic:                     27.25\n",
            "Date:                Mon, 13 Feb 2023   Prob (F-statistic):           1.21e-18\n",
            "Time:                        13:07:36   Log-Likelihood:                -97.419\n",
            "No. Observations:                 244   AIC:                             204.8\n",
            "Df Residuals:                     239   BIC:                             222.3\n",
            "Df Model:                           4                                         \n",
            "Covariance Type:            nonrobust                                         \n",
            "=====================================================================================\n",
            "                        coef    std err          t      P>|t|      [0.025      0.975]\n",
            "-------------------------------------------------------------------------------------\n",
            "Intercept             0.4504      0.078      5.801      0.000       0.297       0.603\n",
            "sex[T.Female]         0.0048      0.050      0.097      0.923      -0.094       0.104\n",
            "C(smoker)[T.No]       0.0436      0.048      0.903      0.367      -0.052       0.139\n",
            "C(time)[T.Dinner]     0.0191      0.054      0.355      0.723      -0.087       0.125\n",
            "net_bill              0.0304      0.003     10.152      0.000       0.024       0.036\n",
            "==============================================================================\n",
            "Omnibus:                        2.577   Durbin-Watson:                   2.044\n",
            "Prob(Omnibus):                  0.276   Jarque-Bera (JB):                2.235\n",
            "Skew:                          -0.181   Prob(JB):                        0.327\n",
            "Kurtosis:                       3.298   Cond. No.                         71.2\n",
            "==============================================================================\n",
            "\n",
            "Notes:\n",
            "[1] Standard Errors assume that the covariance matrix of the errors is correctly specified.\n"
          ]
        }
      ]
    },
    {
      "cell_type": "markdown",
      "source": [
        "2. Remova as variáveis não significantes."
      ],
      "metadata": {
        "id": "M5wqVMJA2iKL"
      }
    },
    {
      "cell_type": "code",
      "source": [
        "reg = smf.ols('np.log(tip) ~ net_bill', data =tips).fit()\n",
        "print(reg.summary())"
      ],
      "metadata": {
        "colab": {
          "base_uri": "https://localhost:8080/"
        },
        "id": "m07JiASz2oaP",
        "outputId": "bc66858a-2b4f-409b-8c42-b23041ad7bf5"
      },
      "execution_count": 45,
      "outputs": [
        {
          "output_type": "stream",
          "name": "stdout",
          "text": [
            "                            OLS Regression Results                            \n",
            "==============================================================================\n",
            "Dep. Variable:            np.log(tip)   R-squared:                       0.311\n",
            "Model:                            OLS   Adj. R-squared:                  0.308\n",
            "Method:                 Least Squares   F-statistic:                     109.0\n",
            "Date:                Mon, 13 Feb 2023   Prob (F-statistic):           2.60e-21\n",
            "Time:                        13:07:36   Log-Likelihood:                -97.886\n",
            "No. Observations:                 244   AIC:                             199.8\n",
            "Df Residuals:                     242   BIC:                             206.8\n",
            "Df Model:                           1                                         \n",
            "Covariance Type:            nonrobust                                         \n",
            "==============================================================================\n",
            "                 coef    std err          t      P>|t|      [0.025      0.975]\n",
            "------------------------------------------------------------------------------\n",
            "Intercept      0.4945      0.054      9.172      0.000       0.388       0.601\n",
            "net_bill       0.0303      0.003     10.442      0.000       0.025       0.036\n",
            "==============================================================================\n",
            "Omnibus:                        2.865   Durbin-Watson:                   2.043\n",
            "Prob(Omnibus):                  0.239   Jarque-Bera (JB):                2.502\n",
            "Skew:                          -0.215   Prob(JB):                        0.286\n",
            "Kurtosis:                       3.248   Cond. No.                         43.3\n",
            "==============================================================================\n",
            "\n",
            "Notes:\n",
            "[1] Standard Errors assume that the covariance matrix of the errors is correctly specified.\n"
          ]
        }
      ]
    },
    {
      "cell_type": "markdown",
      "source": [
        "3. Observe o gráfico de resíduos em função de ```net_bill```"
      ],
      "metadata": {
        "id": "sNkpuFcm3Un8"
      }
    },
    {
      "cell_type": "code",
      "source": [
        "tips['res_net_bill'] = reg.resid"
      ],
      "metadata": {
        "id": "yBu6UvhI3QiL"
      },
      "execution_count": 46,
      "outputs": []
    },
    {
      "cell_type": "code",
      "source": [
        "sns.scatterplot(x = 'tip', y = 'res_net_bill', data = tips)\n",
        "plt.axhline(y=0, color='r', linestyle='--')"
      ],
      "metadata": {
        "colab": {
          "base_uri": "https://localhost:8080/",
          "height": 296
        },
        "id": "2XLTpDHk3eKe",
        "outputId": "d1cbad4f-5038-440e-f143-55680a6c61a3"
      },
      "execution_count": 47,
      "outputs": [
        {
          "output_type": "execute_result",
          "data": {
            "text/plain": [
              "<matplotlib.lines.Line2D at 0x7f49272031f0>"
            ]
          },
          "metadata": {},
          "execution_count": 47
        },
        {
          "output_type": "display_data",
          "data": {
            "text/plain": [
              "<Figure size 432x288 with 1 Axes>"
            ],
            "image/png": "[encoded data removed]"
          },
          "metadata": {
            "needs_background": "light"
          }
        }
      ]
    },
    {
      "cell_type": "markdown",
      "source": [
        "4. Teste transformar net_bill no log e um polinômio. Escolha o melhor modelo."
      ],
      "metadata": {
        "id": "_75LuFO63zVL"
      }
    },
    {
      "cell_type": "markdown",
      "source": [
        "*Conforme visto nos estudos abaixo, quando usamos log de tip versus log de net_bill, temos um r-quadrado de 0,319. Maior do que o modelo usando o polinômio de net_bill. Os gráficos de resíduos mostram bem a evolução dos modelos, já vemos uma dispersão menos no modelo que usamos o log de tip e log de net_bill.*"
      ],
      "metadata": {
        "id": "uyIj5Os75eTt"
      }
    },
    {
      "cell_type": "markdown",
      "source": [],
      "metadata": {
        "id": "zrr-mQgE5eSC"
      }
    },
    {
      "cell_type": "code",
      "source": [
        "reg = smf.ols('np.log(tip) ~ np.log(net_bill)', data =tips).fit()\n",
        "print(reg.summary())"
      ],
      "metadata": {
        "colab": {
          "base_uri": "https://localhost:8080/"
        },
        "id": "3roqJrTn34bd",
        "outputId": "5e210717-ae1d-437f-f6ba-a0ebfc029f83"
      },
      "execution_count": 48,
      "outputs": [
        {
          "output_type": "stream",
          "name": "stdout",
          "text": [
            "                            OLS Regression Results                            \n",
            "==============================================================================\n",
            "Dep. Variable:            np.log(tip)   R-squared:                       0.319\n",
            "Model:                            OLS   Adj. R-squared:                  0.316\n",
            "Method:                 Least Squares   F-statistic:                     113.5\n",
            "Date:                Mon, 13 Feb 2023   Prob (F-statistic):           5.62e-22\n",
            "Time:                        13:07:36   Log-Likelihood:                -96.357\n",
            "No. Observations:                 244   AIC:                             196.7\n",
            "Df Residuals:                     242   BIC:                             203.7\n",
            "Df Model:                           1                                         \n",
            "Covariance Type:            nonrobust                                         \n",
            "====================================================================================\n",
            "                       coef    std err          t      P>|t|      [0.025      0.975]\n",
            "------------------------------------------------------------------------------------\n",
            "Intercept           -0.3942      0.133     -2.961      0.003      -0.657      -0.132\n",
            "np.log(net_bill)     0.5151      0.048     10.652      0.000       0.420       0.610\n",
            "==============================================================================\n",
            "Omnibus:                       12.633   Durbin-Watson:                   1.976\n",
            "Prob(Omnibus):                  0.002   Jarque-Bera (JB):               28.054\n",
            "Skew:                           0.141   Prob(JB):                     8.10e-07\n",
            "Kurtosis:                       4.637   Cond. No.                         17.9\n",
            "==============================================================================\n",
            "\n",
            "Notes:\n",
            "[1] Standard Errors assume that the covariance matrix of the errors is correctly specified.\n"
          ]
        }
      ]
    },
    {
      "cell_type": "code",
      "source": [
        "tips['res_log_net_bill_por_log_tip'] = reg.resid"
      ],
      "metadata": {
        "id": "MFqGPdN94LfA"
      },
      "execution_count": 49,
      "outputs": []
    },
    {
      "cell_type": "code",
      "source": [
        "sns.scatterplot(x = 'tip', y = 'res_log_net_bill_por_log_tip', data = tips)\n",
        "plt.axhline(y=0, color='r', linestyle='--')"
      ],
      "metadata": {
        "colab": {
          "base_uri": "https://localhost:8080/",
          "height": 296
        },
        "id": "gtKnAHjx4Qp1",
        "outputId": "9f96a17f-adbb-4af1-cdfc-d546c4a73bd2"
      },
      "execution_count": 50,
      "outputs": [
        {
          "output_type": "execute_result",
          "data": {
            "text/plain": [
              "<matplotlib.lines.Line2D at 0x7f49271ca0d0>"
            ]
          },
          "metadata": {},
          "execution_count": 50
        },
        {
          "output_type": "display_data",
          "data": {
            "text/plain": [
              "<Figure size 432x288 with 1 Axes>"
            ],
            "image/png": "[encoded data removed]"
          },
          "metadata": {
            "needs_background": "light"
          }
        }
      ]
    },
    {
      "cell_type": "code",
      "source": [
        "reg = smf.ols('np.log(tip) ~ np.power(net_bill,2)', data =tips).fit()\n",
        "print(reg.summary())"
      ],
      "metadata": {
        "colab": {
          "base_uri": "https://localhost:8080/"
        },
        "id": "AiTMa0YG4osU",
        "outputId": "fdd57f04-6baa-4f94-da12-f8c6ada3eea3"
      },
      "execution_count": 51,
      "outputs": [
        {
          "output_type": "stream",
          "name": "stdout",
          "text": [
            "                            OLS Regression Results                            \n",
            "==============================================================================\n",
            "Dep. Variable:            np.log(tip)   R-squared:                       0.250\n",
            "Model:                            OLS   Adj. R-squared:                  0.247\n",
            "Method:                 Least Squares   F-statistic:                     80.67\n",
            "Date:                Mon, 13 Feb 2023   Prob (F-statistic):           7.70e-17\n",
            "Time:                        13:07:36   Log-Likelihood:                -108.16\n",
            "No. Observations:                 244   AIC:                             220.3\n",
            "Df Residuals:                     242   BIC:                             227.3\n",
            "Df Model:                           1                                         \n",
            "Covariance Type:            nonrobust                                         \n",
            "=========================================================================================\n",
            "                            coef    std err          t      P>|t|      [0.025      0.975]\n",
            "-----------------------------------------------------------------------------------------\n",
            "Intercept                 0.7894      0.034     23.273      0.000       0.723       0.856\n",
            "np.power(net_bill, 2)     0.0006   6.86e-05      8.982      0.000       0.000       0.001\n",
            "==============================================================================\n",
            "Omnibus:                        2.469   Durbin-Watson:                   2.087\n",
            "Prob(Omnibus):                  0.291   Jarque-Bera (JB):                2.507\n",
            "Skew:                          -0.240   Prob(JB):                        0.285\n",
            "Kurtosis:                       2.874   Cond. No.                         692.\n",
            "==============================================================================\n",
            "\n",
            "Notes:\n",
            "[1] Standard Errors assume that the covariance matrix of the errors is correctly specified.\n"
          ]
        }
      ]
    },
    {
      "cell_type": "code",
      "source": [
        "tips['res_poli_net_bill_por_log_tip'] = reg.resid"
      ],
      "metadata": {
        "id": "QcT158BN5Byt"
      },
      "execution_count": 52,
      "outputs": []
    },
    {
      "cell_type": "code",
      "source": [
        "sns.scatterplot(x = 'tip', y = 'res_poli_net_bill_por_log_tip', data = tips)\n",
        "plt.axhline(y=0, color='r', linestyle='--')"
      ],
      "metadata": {
        "colab": {
          "base_uri": "https://localhost:8080/",
          "height": 299
        },
        "id": "adA-pFZ45L67",
        "outputId": "4b28c28d-d22d-44d9-96b1-3fe18a58cf88"
      },
      "execution_count": 53,
      "outputs": [
        {
          "output_type": "execute_result",
          "data": {
            "text/plain": [
              "<matplotlib.lines.Line2D at 0x7f49271b46a0>"
            ]
          },
          "metadata": {},
          "execution_count": 53
        },
        {
          "output_type": "display_data",
          "data": {
            "text/plain": [
              "<Figure size 432x288 with 1 Axes>"
            ],
            "image/png": "[encoded data removed]"
          },
          "metadata": {
            "needs_background": "light"
          }
        }
      ]
    },
    {
      "cell_type": "markdown",
      "source": [
        "5. Do modelo final deste item, calcule o $R^2$ na escala de ```tip``` (sem o log). Compare com o modelo do item 1. Qual tem melhor coeficiente de determinação?"
      ],
      "metadata": {
        "id": "e0AUpQOy6Oyn"
      }
    },
    {
      "cell_type": "markdown",
      "source": [
        "*Vemos que mesmo com os modelos de ajuste, o primeiro modelo criando, onde apenas vimos o tip versus o net_bill obteve um r-quadrado de 0.333, que é o melhor modelo que encontamos*"
      ],
      "metadata": {
        "id": "CpI6Y7up_yDP"
      }
    },
    {
      "cell_type": "code",
      "source": [
        "#Modelo 1\n",
        "reg = smf.ols('tip ~ net_bill', data =tips).fit()\n",
        "print(reg.summary())"
      ],
      "metadata": {
        "colab": {
          "base_uri": "https://localhost:8080/"
        },
        "id": "9vajzcsa6TiC",
        "outputId": "ce485f91-9634-4d13-884f-4ac9f7c33bc2"
      },
      "execution_count": 54,
      "outputs": [
        {
          "output_type": "stream",
          "name": "stdout",
          "text": [
            "                            OLS Regression Results                            \n",
            "==============================================================================\n",
            "Dep. Variable:                    tip   R-squared:                       0.333\n",
            "Model:                            OLS   Adj. R-squared:                  0.330\n",
            "Method:                 Least Squares   F-statistic:                     120.6\n",
            "Date:                Mon, 13 Feb 2023   Prob (F-statistic):           5.02e-23\n",
            "Time:                        13:07:37   Log-Likelihood:                -375.63\n",
            "No. Observations:                 244   AIC:                             755.3\n",
            "Df Residuals:                     242   BIC:                             762.3\n",
            "Df Model:                           1                                         \n",
            "Covariance Type:            nonrobust                                         \n",
            "==============================================================================\n",
            "                 coef    std err          t      P>|t|      [0.025      0.975]\n",
            "------------------------------------------------------------------------------\n",
            "Intercept      1.3307      0.168      7.907      0.000       0.999       1.662\n",
            "net_bill       0.0993      0.009     10.980      0.000       0.082       0.117\n",
            "==============================================================================\n",
            "Omnibus:                       33.873   Durbin-Watson:                   2.123\n",
            "Prob(Omnibus):                  0.000   Jarque-Bera (JB):               59.942\n",
            "Skew:                           0.754   Prob(JB):                     9.63e-14\n",
            "Kurtosis:                       4.903   Cond. No.                         43.3\n",
            "==============================================================================\n",
            "\n",
            "Notes:\n",
            "[1] Standard Errors assume that the covariance matrix of the errors is correctly specified.\n"
          ]
        }
      ]
    },
    {
      "cell_type": "code",
      "source": [
        "#Modelo 'final'\n",
        "reg = smf.ols('np.log(tip) ~ np.log(net_bill)', data =tips).fit()\n",
        "print(reg.summary())"
      ],
      "metadata": {
        "colab": {
          "base_uri": "https://localhost:8080/"
        },
        "id": "B3ov4yYu_fT5",
        "outputId": "2f1f60f1-60fd-4f62-c6bc-f9397f9e3a4d"
      },
      "execution_count": 55,
      "outputs": [
        {
          "output_type": "stream",
          "name": "stdout",
          "text": [
            "                            OLS Regression Results                            \n",
            "==============================================================================\n",
            "Dep. Variable:            np.log(tip)   R-squared:                       0.319\n",
            "Model:                            OLS   Adj. R-squared:                  0.316\n",
            "Method:                 Least Squares   F-statistic:                     113.5\n",
            "Date:                Mon, 13 Feb 2023   Prob (F-statistic):           5.62e-22\n",
            "Time:                        13:07:37   Log-Likelihood:                -96.357\n",
            "No. Observations:                 244   AIC:                             196.7\n",
            "Df Residuals:                     242   BIC:                             203.7\n",
            "Df Model:                           1                                         \n",
            "Covariance Type:            nonrobust                                         \n",
            "====================================================================================\n",
            "                       coef    std err          t      P>|t|      [0.025      0.975]\n",
            "------------------------------------------------------------------------------------\n",
            "Intercept           -0.3942      0.133     -2.961      0.003      -0.657      -0.132\n",
            "np.log(net_bill)     0.5151      0.048     10.652      0.000       0.420       0.610\n",
            "==============================================================================\n",
            "Omnibus:                       12.633   Durbin-Watson:                   1.976\n",
            "Prob(Omnibus):                  0.002   Jarque-Bera (JB):               28.054\n",
            "Skew:                           0.141   Prob(JB):                     8.10e-07\n",
            "Kurtosis:                       4.637   Cond. No.                         17.9\n",
            "==============================================================================\n",
            "\n",
            "Notes:\n",
            "[1] Standard Errors assume that the covariance matrix of the errors is correctly specified.\n"
          ]
        }
      ]
    },
    {
      "cell_type": "markdown",
      "metadata": {
        "id": "AnWrxnuujaEC"
      },
      "source": [
        "### III. Previsão de renda\n",
        "\n",
        "Vamos trabalhar a base que você vai usar no projeto do final deste ciclo.\n",
        "\n",
        "Carregue a base ```previsao_de_renda.csv```.\n",
        "\n",
        "|variavel|descrição|\n",
        "|-|-|\n",
        "|data_ref                | Data de referência de coleta das variáveis |\n",
        "|index                   | Código de identificação do cliente|\n",
        "|sexo                    | Sexo do cliente|\n",
        "|posse_de_veiculo        | Indica se o cliente possui veículo|\n",
        "|posse_de_imovel         | Indica se o cliente possui imóvel|\n",
        "|qtd_filhos              | Quantidade de filhos do cliente|\n",
        "|tipo_renda              | Tipo de renda do cliente|\n",
        "|educacao                | Grau de instrução do cliente|\n",
        "|estado_civil            | Estado civil do cliente|\n",
        "|tipo_residencia         | Tipo de residência do cliente (própria, alugada etc)|\n",
        "|idade                   | Idade do cliente|\n",
        "|tempo_emprego           | Tempo no emprego atual|\n",
        "|qt_pessoas_residencia   | Quantidade de pessoas que moram na residência|\n",
        "|renda                   | Renda em reais|\n"
      ]
    },
    {
      "cell_type": "code",
      "source": [
        "previsao_de_renda = pd.read_csv('/content/previsao_de_renda (1).csv')"
      ],
      "metadata": {
        "id": "CBrata9YAgnK"
      },
      "execution_count": 56,
      "outputs": []
    },
    {
      "cell_type": "code",
      "source": [
        "previsao_de_renda = pd.DataFrame(previsao_de_renda)"
      ],
      "metadata": {
        "id": "x8DdYZKFKzID"
      },
      "execution_count": 57,
      "outputs": []
    },
    {
      "cell_type": "code",
      "source": [
        "previsao_de_renda.head()"
      ],
      "metadata": {
        "colab": {
          "base_uri": "https://localhost:8080/",
          "height": 375
        },
        "id": "p2K2Cjx9K7MY",
        "outputId": "ce6bf825-f705-4ef0-9027-ea3f4aba37b5"
      },
      "execution_count": 58,
      "outputs": [
        {
          "output_type": "execute_result",
          "data": {
            "text/plain": [
              "   Unnamed: 0    data_ref  index sexo  posse_de_veiculo  posse_de_imovel  \\\n",
              "0           0  2015-01-01   8682    F             False             True   \n",
              "1           1  2015-01-01  12830    M              True             True   \n",
              "2           2  2015-01-01   2885    M              True             True   \n",
              "3           3  2015-01-01  16168    F              True            False   \n",
              "4           4  2015-01-01  12438    M             False            False   \n",
              "\n",
              "   qtd_filhos   tipo_renda           educacao estado_civil tipo_residencia  \\\n",
              "0           1  Assalariado         Secundário       Casado            Casa   \n",
              "1           0   Empresário         Secundário       Casado            Casa   \n",
              "2           2  Assalariado  Superior completo       Casado            Casa   \n",
              "3           0   Empresário         Secundário       Casado            Casa   \n",
              "4           0  Assalariado         Secundário       Casado            Casa   \n",
              "\n",
              "   idade  tempo_emprego  qt_pessoas_residencia    mau    renda  \n",
              "0     36       3.575342                    3.0  False  3369.24  \n",
              "1     42       0.860274                    2.0  False  6096.14  \n",
              "2     31       8.065753                    4.0  False  5658.98  \n",
              "3     50       1.208219                    2.0  False  7246.69  \n",
              "4     52      13.873973                    2.0  False  4017.37  "
            ],
            "text/html": [
              "\n",
              "  <div id=\"df-091f9511-1000-427a-882e-255b79326c62\">\n",
              "    <div class=\"colab-df-container\">\n",
              "      <div>\n",
              "<style scoped>\n",
              "    .dataframe tbody tr th:only-of-type {\n",
              "        vertical-align: middle;\n",
              "    }\n",
              "\n",
              "    .dataframe tbody tr th {\n",
              "        vertical-align: top;\n",
              "    }\n",
              "\n",
              "    .dataframe thead th {\n",
              "        text-align: right;\n",
              "    }\n",
              "</style>\n",
              "<table border=\"1\" class=\"dataframe\">\n",
              "  <thead>\n",
              "    <tr style=\"text-align: right;\">\n",
              "      <th></th>\n",
              "      <th>Unnamed: 0</th>\n",
              "      <th>data_ref</th>\n",
              "      <th>index</th>\n",
              "      <th>sexo</th>\n",
              "      <th>posse_de_veiculo</th>\n",
              "      <th>posse_de_imovel</th>\n",
              "      <th>qtd_filhos</th>\n",
              "      <th>tipo_renda</th>\n",
              "      <th>educacao</th>\n",
              "      <th>estado_civil</th>\n",
              "      <th>tipo_residencia</th>\n",
              "      <th>idade</th>\n",
              "      <th>tempo_emprego</th>\n",
              "      <th>qt_pessoas_residencia</th>\n",
              "      <th>mau</th>\n",
              "      <th>renda</th>\n",
              "    </tr>\n",
              "  </thead>\n",
              "  <tbody>\n",
              "    <tr>\n",
              "      <th>0</th>\n",
              "      <td>0</td>\n",
              "      <td>2015-01-01</td>\n",
              "      <td>8682</td>\n",
              "      <td>F</td>\n",
              "      <td>False</td>\n",
              "      <td>True</td>\n",
              "      <td>1</td>\n",
              "      <td>Assalariado</td>\n",
              "      <td>Secundário</td>\n",
              "      <td>Casado</td>\n",
              "      <td>Casa</td>\n",
              "      <td>36</td>\n",
              "      <td>3.575342</td>\n",
              "      <td>3.0</td>\n",
              "      <td>False</td>\n",
              "      <td>3369.24</td>\n",
              "    </tr>\n",
              "    <tr>\n",
              "      <th>1</th>\n",
              "      <td>1</td>\n",
              "      <td>2015-01-01</td>\n",
              "      <td>12830</td>\n",
              "      <td>M</td>\n",
              "      <td>True</td>\n",
              "      <td>True</td>\n",
              "      <td>0</td>\n",
              "      <td>Empresário</td>\n",
              "      <td>Secundário</td>\n",
              "      <td>Casado</td>\n",
              "      <td>Casa</td>\n",
              "      <td>42</td>\n",
              "      <td>0.860274</td>\n",
              "      <td>2.0</td>\n",
              "      <td>False</td>\n",
              "      <td>6096.14</td>\n",
              "    </tr>\n",
              "    <tr>\n",
              "      <th>2</th>\n",
              "      <td>2</td>\n",
              "      <td>2015-01-01</td>\n",
              "      <td>2885</td>\n",
              "      <td>M</td>\n",
              "      <td>True</td>\n",
              "      <td>True</td>\n",
              "      <td>2</td>\n",
              "      <td>Assalariado</td>\n",
              "      <td>Superior completo</td>\n",
              "      <td>Casado</td>\n",
              "      <td>Casa</td>\n",
              "      <td>31</td>\n",
              "      <td>8.065753</td>\n",
              "      <td>4.0</td>\n",
              "      <td>False</td>\n",
              "      <td>5658.98</td>\n",
              "    </tr>\n",
              "    <tr>\n",
              "      <th>3</th>\n",
              "      <td>3</td>\n",
              "      <td>2015-01-01</td>\n",
              "      <td>16168</td>\n",
              "      <td>F</td>\n",
              "      <td>True</td>\n",
              "      <td>False</td>\n",
              "      <td>0</td>\n",
              "      <td>Empresário</td>\n",
              "      <td>Secundário</td>\n",
              "      <td>Casado</td>\n",
              "      <td>Casa</td>\n",
              "      <td>50</td>\n",
              "      <td>1.208219</td>\n",
              "      <td>2.0</td>\n",
              "      <td>False</td>\n",
              "      <td>7246.69</td>\n",
              "    </tr>\n",
              "    <tr>\n",
              "      <th>4</th>\n",
              "      <td>4</td>\n",
              "      <td>2015-01-01</td>\n",
              "      <td>12438</td>\n",
              "      <td>M</td>\n",
              "      <td>False</td>\n",
              "      <td>False</td>\n",
              "      <td>0</td>\n",
              "      <td>Assalariado</td>\n",
              "      <td>Secundário</td>\n",
              "      <td>Casado</td>\n",
              "      <td>Casa</td>\n",
              "      <td>52</td>\n",
              "      <td>13.873973</td>\n",
              "      <td>2.0</td>\n",
              "      <td>False</td>\n",
              "      <td>4017.37</td>\n",
              "    </tr>\n",
              "  </tbody>\n",
              "</table>\n",
              "</div>\n",
              "      <button class=\"colab-df-convert\" onclick=\"convertToInteractive('df-091f9511-1000-427a-882e-255b79326c62')\"\n",
              "              title=\"Convert this dataframe to an interactive table.\"\n",
              "              style=\"display:none;\">\n",
              "        \n",
              "  <svg xmlns=\"http://www.w3.org/2000/svg\" height=\"24px\"viewBox=\"0 0 24 24\"\n",
              "       width=\"24px\">\n",
              "    <path d=\"M0 0h24v24H0V0z\" fill=\"none\"/>\n",
              "    <path d=\"M18.56 5.44l.94 2.06.94-2.06 2.06-.94-2.06-.94-.94-2.06-.94 2.06-2.06.94zm-11 1L8.5 8.5l.94-2.06 2.06-.94-2.06-.94L8.5 2.5l-.94 2.06-2.06.94zm10 10l.94 2.06.94-2.06 2.06-.94-2.06-.94-.94-2.06-.94 2.06-2.06.94z\"/><path d=\"M17.41 7.96l-1.37-1.37c-.4-.4-.92-.59-1.43-.59-.52 0-1.04.2-1.43.59L10.3 9.45l-7.72 7.72c-.78.78-.78 2.05 0 2.83L4 21.41c.39.39.9.59 1.41.59.51 0 1.02-.2 1.41-.59l7.78-7.78 2.81-2.81c.8-.78.8-2.07 0-2.86zM5.41 20L4 18.59l7.72-7.72 1.47 1.35L5.41 20z\"/>\n",
              "  </svg>\n",
              "      </button>\n",
              "      \n",
              "  <style>\n",
              "    .colab-df-container {\n",
              "      display:flex;\n",
              "      flex-wrap:wrap;\n",
              "      gap: 12px;\n",
              "    }\n",
              "\n",
              "    .colab-df-convert {\n",
              "      background-color: #E8F0FE;\n",
              "      border: none;\n",
              "      border-radius: 50%;\n",
              "      cursor: pointer;\n",
              "      display: none;\n",
              "      fill: #1967D2;\n",
              "      height: 32px;\n",
              "      padding: 0 0 0 0;\n",
              "      width: 32px;\n",
              "    }\n",
              "\n",
              "    .colab-df-convert:hover {\n",
              "      background-color: #E2EBFA;\n",
              "      box-shadow: 0px 1px 2px rgba(60, 64, 67, 0.3), 0px 1px 3px 1px rgba(60, 64, 67, 0.15);\n",
              "      fill: #174EA6;\n",
              "    }\n",
              "\n",
              "    [theme=dark] .colab-df-convert {\n",
              "      background-color: #3B4455;\n",
              "      fill: #D2E3FC;\n",
              "    }\n",
              "\n",
              "    [theme=dark] .colab-df-convert:hover {\n",
              "      background-color: #434B5C;\n",
              "      box-shadow: 0px 1px 3px 1px rgba(0, 0, 0, 0.15);\n",
              "      filter: drop-shadow(0px 1px 2px rgba(0, 0, 0, 0.3));\n",
              "      fill: #FFFFFF;\n",
              "    }\n",
              "  </style>\n",
              "\n",
              "      <script>\n",
              "        const buttonEl =\n",
              "          document.querySelector('#df-091f9511-1000-427a-882e-255b79326c62 button.colab-df-convert');\n",
              "        buttonEl.style.display =\n",
              "          google.colab.kernel.accessAllowed ? 'block' : 'none';\n",
              "\n",
              "        async function convertToInteractive(key) {\n",
              "          const element = document.querySelector('#df-091f9511-1000-427a-882e-255b79326c62');\n",
              "          const dataTable =\n",
              "            await google.colab.kernel.invokeFunction('convertToInteractive',\n",
              "                                                     [key], {});\n",
              "          if (!dataTable) return;\n",
              "\n",
              "          const docLinkHtml = 'Like what you see? Visit the ' +\n",
              "            '<a target=\"_blank\" href=https://colab.research.google.com/notebooks/data_table.ipynb>data table notebook</a>'\n",
              "            + ' to learn more about interactive tables.';\n",
              "          element.innerHTML = '';\n",
              "          dataTable['output_type'] = 'display_data';\n",
              "          await google.colab.output.renderOutput(dataTable, element);\n",
              "          const docLink = document.createElement('div');\n",
              "          docLink.innerHTML = docLinkHtml;\n",
              "          element.appendChild(docLink);\n",
              "        }\n",
              "      </script>\n",
              "    </div>\n",
              "  </div>\n",
              "  "
            ]
          },
          "metadata": {},
          "execution_count": 58
        }
      ]
    },
    {
      "cell_type": "code",
      "source": [
        "previsao_de_renda.info()"
      ],
      "metadata": {
        "colab": {
          "base_uri": "https://localhost:8080/"
        },
        "id": "jV6J62zDLZjA",
        "outputId": "f6a132e0-0066-4e5b-d905-52674ad6ad8b"
      },
      "execution_count": 59,
      "outputs": [
        {
          "output_type": "stream",
          "name": "stdout",
          "text": [
            "<class 'pandas.core.frame.DataFrame'>\n",
            "RangeIndex: 15000 entries, 0 to 14999\n",
            "Data columns (total 16 columns):\n",
            " #   Column                 Non-Null Count  Dtype  \n",
            "---  ------                 --------------  -----  \n",
            " 0   Unnamed: 0             15000 non-null  int64  \n",
            " 1   data_ref               15000 non-null  object \n",
            " 2   index                  15000 non-null  int64  \n",
            " 3   sexo                   15000 non-null  object \n",
            " 4   posse_de_veiculo       15000 non-null  bool   \n",
            " 5   posse_de_imovel        15000 non-null  bool   \n",
            " 6   qtd_filhos             15000 non-null  int64  \n",
            " 7   tipo_renda             15000 non-null  object \n",
            " 8   educacao               15000 non-null  object \n",
            " 9   estado_civil           15000 non-null  object \n",
            " 10  tipo_residencia        15000 non-null  object \n",
            " 11  idade                  15000 non-null  int64  \n",
            " 12  tempo_emprego          12466 non-null  float64\n",
            " 13  qt_pessoas_residencia  15000 non-null  float64\n",
            " 14  mau                    15000 non-null  bool   \n",
            " 15  renda                  15000 non-null  float64\n",
            "dtypes: bool(3), float64(3), int64(4), object(6)\n",
            "memory usage: 1.5+ MB\n"
          ]
        }
      ]
    },
    {
      "cell_type": "markdown",
      "source": [
        "1. Ajuste um modelo de regressão linear simples para explicar renda como variável resposta, por tempo_emprego como variável explicativa. Observe que há muitas observações nessa tabela. Utilize os recursos que achar necessário."
      ],
      "metadata": {
        "id": "VbGRU8h082kk"
      }
    },
    {
      "cell_type": "code",
      "source": [
        "reg = smf.ols('renda ~ tempo_emprego', data =previsao_de_renda).fit()\n",
        "print(reg.summary())"
      ],
      "metadata": {
        "colab": {
          "base_uri": "https://localhost:8080/"
        },
        "id": "Nx7j110uLATP",
        "outputId": "01f20dc8-df89-4a2f-84a2-e998da8c92ce"
      },
      "execution_count": 60,
      "outputs": [
        {
          "output_type": "stream",
          "name": "stdout",
          "text": [
            "                            OLS Regression Results                            \n",
            "==============================================================================\n",
            "Dep. Variable:                  renda   R-squared:                       0.155\n",
            "Model:                            OLS   Adj. R-squared:                  0.155\n",
            "Method:                 Least Squares   F-statistic:                     2294.\n",
            "Date:                Mon, 13 Feb 2023   Prob (F-statistic):               0.00\n",
            "Time:                        13:07:37   Log-Likelihood:            -1.2249e+05\n",
            "No. Observations:               12466   AIC:                         2.450e+05\n",
            "Df Residuals:                   12464   BIC:                         2.450e+05\n",
            "Df Model:                           1                                         \n",
            "Covariance Type:            nonrobust                                         \n",
            "=================================================================================\n",
            "                    coef    std err          t      P>|t|      [0.025      0.975]\n",
            "---------------------------------------------------------------------------------\n",
            "Intercept      2653.9453     60.924     43.561      0.000    2534.525    2773.366\n",
            "tempo_emprego   283.3509      5.916     47.892      0.000     271.754     294.948\n",
            "==============================================================================\n",
            "Omnibus:                     9974.393   Durbin-Watson:                   2.016\n",
            "Prob(Omnibus):                  0.000   Jarque-Bera (JB):           387626.996\n",
            "Skew:                           3.561   Prob(JB):                         0.00\n",
            "Kurtosis:                      29.373   Cond. No.                         15.7\n",
            "==============================================================================\n",
            "\n",
            "Notes:\n",
            "[1] Standard Errors assume that the covariance matrix of the errors is correctly specified.\n"
          ]
        }
      ]
    },
    {
      "cell_type": "markdown",
      "source": [
        "2. Faça uma análise de resíduos. Com os recursos vistos neste módulo, como você melhoraria esta regressão?"
      ],
      "metadata": {
        "id": "WEsanpAY82W9"
      }
    },
    {
      "cell_type": "code",
      "source": [
        "previsao_de_renda['res_tempo_emprego'] = reg.resid"
      ],
      "metadata": {
        "id": "vIN0xW_YMx8l"
      },
      "execution_count": 61,
      "outputs": []
    },
    {
      "cell_type": "code",
      "source": [
        "sns.regplot(y = 'renda', x = 'res_tempo_emprego', data = previsao_de_renda)"
      ],
      "metadata": {
        "colab": {
          "base_uri": "https://localhost:8080/",
          "height": 297
        },
        "id": "V_PxyKwmNEDP",
        "outputId": "1a46ce3a-21bd-46b1-ac85-c26647fb2316"
      },
      "execution_count": 62,
      "outputs": [
        {
          "output_type": "execute_result",
          "data": {
            "text/plain": [
              "<matplotlib.axes._subplots.AxesSubplot at 0x7f49271b06d0>"
            ]
          },
          "metadata": {},
          "execution_count": 62
        },
        {
          "output_type": "display_data",
          "data": {
            "text/plain": [
              "<Figure size 432x288 with 1 Axes>"
            ],
            "image/png": "[encoded data removed]"
          },
          "metadata": {
            "needs_background": "light"
          }
        }
      ]
    },
    {
      "cell_type": "markdown",
      "source": [
        "3. Ajuste um modelo de regressão linear múltipla para explicar renda (ou uma transformação de renda) de acordo com as demais variáveis."
      ],
      "metadata": {
        "id": "ifComE8Q81wb"
      }
    },
    {
      "cell_type": "code",
      "source": [
        "reg = smf.ols('renda ~ C(sexo) + C(posse_de_veiculo) + C(posse_de_imovel) + qtd_filhos + C(tipo_renda) +  C(educacao) + C(estado_civil) + C(tipo_residencia) + idade + tempo_emprego + qt_pessoas_residencia'\n",
        "              , data =previsao_de_renda).fit()\n",
        "print(reg.summary())"
      ],
      "metadata": {
        "colab": {
          "base_uri": "https://localhost:8080/"
        },
        "id": "C5IiiYWLN5MF",
        "outputId": "b9dca341-3c9a-4b7c-84dc-2f41b1b66036"
      },
      "execution_count": 63,
      "outputs": [
        {
          "output_type": "stream",
          "name": "stdout",
          "text": [
            "                            OLS Regression Results                            \n",
            "==============================================================================\n",
            "Dep. Variable:                  renda   R-squared:                       0.221\n",
            "Model:                            OLS   Adj. R-squared:                  0.219\n",
            "Method:                 Least Squares   F-statistic:                     146.9\n",
            "Date:                Mon, 13 Feb 2023   Prob (F-statistic):               0.00\n",
            "Time:                        13:07:38   Log-Likelihood:            -1.2199e+05\n",
            "No. Observations:               12466   AIC:                         2.440e+05\n",
            "Df Residuals:                   12441   BIC:                         2.442e+05\n",
            "Df Model:                          24                                         \n",
            "Covariance Type:            nonrobust                                         \n",
            "=======================================================================================================\n",
            "                                          coef    std err          t      P>|t|      [0.025      0.975]\n",
            "-------------------------------------------------------------------------------------------------------\n",
            "Intercept                            -271.2003   1674.811     -0.162      0.871   -3554.089    3011.688\n",
            "C(sexo)[T.M]                         2366.1922     88.099     26.858      0.000    2193.505    2538.879\n",
            "C(posse_de_veiculo)[T.True]           -79.1270     84.709     -0.934      0.350    -245.169      86.915\n",
            "C(posse_de_imovel)[T.True]            349.0015     83.426      4.183      0.000     185.473     512.530\n",
            "C(tipo_renda)[T.Bolsista]            -817.4651   2155.323     -0.379      0.704   -5042.231    3407.301\n",
            "C(tipo_renda)[T.Empresário]          1021.9116     90.142     11.337      0.000     845.219    1198.605\n",
            "C(tipo_renda)[T.Pensionista]         1725.6132   1437.300      1.201      0.230   -1091.716    4542.943\n",
            "C(tipo_renda)[T.Servidor público]     436.9668    130.511      3.348      0.001     181.145     692.788\n",
            "C(educacao)[T.Pós graduação]         2207.5583   1081.061      2.042      0.041      88.511    4326.606\n",
            "C(educacao)[T.Secundário]            -241.1964    437.786     -0.551      0.582   -1099.324     616.931\n",
            "C(educacao)[T.Superior completo]      338.2616    439.622      0.769      0.442    -523.465    1199.988\n",
            "C(educacao)[T.Superior incompleto]   -296.2056    470.976     -0.629      0.529   -1219.392     626.981\n",
            "C(estado_civil)[T.Separado]           141.9156    806.277      0.176      0.860   -1438.512    1722.343\n",
            "C(estado_civil)[T.Solteiro]           376.1573    791.461      0.475      0.635   -1175.228    1927.542\n",
            "C(estado_civil)[T.União]              -41.0497    143.754     -0.286      0.775    -322.829     240.730\n",
            "C(estado_civil)[T.Viúvo]              -41.1125    827.976     -0.050      0.960   -1664.073    1581.848\n",
            "C(tipo_residencia)[T.Casa]           -356.2809    328.620     -1.084      0.278   -1000.428     287.866\n",
            "C(tipo_residencia)[T.Com os pais]    -640.8115    368.489     -1.739      0.082   -1363.106      81.483\n",
            "C(tipo_residencia)[T.Comunitário]    -577.7117    634.059     -0.911      0.362   -1820.565     665.142\n",
            "C(tipo_residencia)[T.Estúdio]        -976.1765    547.353     -1.783      0.075   -2049.073      96.720\n",
            "C(tipo_residencia)[T.Governamental]  -883.1863    397.273     -2.223      0.026   -1661.903    -104.470\n",
            "qtd_filhos                           -240.3254    789.406     -0.304      0.761   -1787.683    1307.032\n",
            "idade                                  29.8746      4.808      6.213      0.000      20.450      39.299\n",
            "tempo_emprego                         299.3338      6.140     48.750      0.000     287.298     311.369\n",
            "qt_pessoas_residencia                 306.2508    787.902      0.389      0.698   -1238.159    1850.661\n",
            "==============================================================================\n",
            "Omnibus:                    10075.335   Durbin-Watson:                   2.016\n",
            "Prob(Omnibus):                  0.000   Jarque-Bera (JB):           432391.441\n",
            "Skew:                           3.579   Prob(JB):                         0.00\n",
            "Kurtosis:                      30.950   Cond. No.                     2.65e+03\n",
            "==============================================================================\n",
            "\n",
            "Notes:\n",
            "[1] Standard Errors assume that the covariance matrix of the errors is correctly specified.\n",
            "[2] The condition number is large, 2.65e+03. This might indicate that there are\n",
            "strong multicollinearity or other numerical problems.\n"
          ]
        }
      ]
    },
    {
      "cell_type": "markdown",
      "source": [],
      "metadata": {
        "id": "y8Y-RW8NfBcm"
      }
    },
    {
      "cell_type": "markdown",
      "source": [
        "4. Remova as variáveis não significantes e ajuste novamente o modelo. Interprete os parâmetros"
      ],
      "metadata": {
        "id": "vk7S89qr81nb"
      }
    },
    {
      "cell_type": "code",
      "source": [
        "reg = smf.ols('renda ~ C(sexo) + C(posse_de_imovel) + idade + tempo_emprego'\n",
        "              , data =previsao_de_renda).fit()\n",
        "print(reg.summary())"
      ],
      "metadata": {
        "colab": {
          "base_uri": "https://localhost:8080/"
        },
        "id": "zL2GKqrPPwuQ",
        "outputId": "12def292-f286-4579-c3a1-a827b46b91de"
      },
      "execution_count": 70,
      "outputs": [
        {
          "output_type": "stream",
          "name": "stdout",
          "text": [
            "                            OLS Regression Results                            \n",
            "==============================================================================\n",
            "Dep. Variable:                  renda   R-squared:                       0.207\n",
            "Model:                            OLS   Adj. R-squared:                  0.207\n",
            "Method:                 Least Squares   F-statistic:                     813.7\n",
            "Date:                Mon, 13 Feb 2023   Prob (F-statistic):               0.00\n",
            "Time:                        13:09:47   Log-Likelihood:            -1.2210e+05\n",
            "No. Observations:               12466   AIC:                         2.442e+05\n",
            "Df Residuals:                   12461   BIC:                         2.442e+05\n",
            "Df Model:                           4                                         \n",
            "Covariance Type:            nonrobust                                         \n",
            "==============================================================================================\n",
            "                                 coef    std err          t      P>|t|      [0.025      0.975]\n",
            "----------------------------------------------------------------------------------------------\n",
            "Intercept                    455.8353    186.029      2.450      0.014      91.190     820.481\n",
            "C(sexo)[T.M]                2299.6921     82.355     27.924      0.000    2138.263    2461.121\n",
            "C(posse_de_imovel)[T.True]   434.8417     81.921      5.308      0.000     274.264     595.420\n",
            "idade                         24.3007      4.427      5.489      0.000      15.623      32.979\n",
            "tempo_emprego                296.2532      6.097     48.586      0.000     284.301     308.205\n",
            "==============================================================================\n",
            "Omnibus:                    10139.758   Durbin-Watson:                   2.012\n",
            "Prob(Omnibus):                  0.000   Jarque-Bera (JB):           439131.435\n",
            "Skew:                           3.612   Prob(JB):                         0.00\n",
            "Kurtosis:                      31.165   Cond. No.                         207.\n",
            "==============================================================================\n",
            "\n",
            "Notes:\n",
            "[1] Standard Errors assume that the covariance matrix of the errors is correctly specified.\n"
          ]
        }
      ]
    },
    {
      "cell_type": "markdown",
      "source": [
        "5. Faça uma análise de resíduos. Avalie a qualidade do ajuste."
      ],
      "metadata": {
        "id": "7r78YtN781Wn"
      }
    },
    {
      "cell_type": "code",
      "source": [
        "previsao_de_renda['res_ajustado'] = reg.resid"
      ],
      "metadata": {
        "id": "IeUk9z-Y4EES"
      },
      "execution_count": 71,
      "outputs": []
    },
    {
      "cell_type": "code",
      "source": [
        "sns.regplot(y = 'renda', x = 'res_ajustado', data = previsao_de_renda)"
      ],
      "metadata": {
        "colab": {
          "base_uri": "https://localhost:8080/",
          "height": 297
        },
        "id": "MdqCrYeQ5bKY",
        "outputId": "9463567a-514a-499d-b361-2a9063697dcd"
      },
      "execution_count": 73,
      "outputs": [
        {
          "output_type": "execute_result",
          "data": {
            "text/plain": [
              "<matplotlib.axes._subplots.AxesSubplot at 0x7f49272ac040>"
            ]
          },
          "metadata": {},
          "execution_count": 73
        },
        {
          "output_type": "display_data",
          "data": {
            "text/plain": [
              "<Figure size 432x288 with 1 Axes>"
            ],
            "image/png": "[encoded data removed]"
          },
          "metadata": {
            "needs_background": "light"
          }
        }
      ]
    }
  ],
  "metadata": {
    "kernelspec": {
      "display_name": "Python 3",
      "language": "python",
      "name": "python3"
    },
    "language_info": {
      "codemirror_mode": {
        "name": "ipython",
        "version": 3
      },
      "file_extension": ".py",
      "mimetype": "text/x-python",
      "name": "python",
      "nbconvert_exporter": "python",
      "pygments_lexer": "ipython3",
      "version": "3.8.5"
    },
    "colab": {
      "provenance": []
    }
  },
  "nbformat": 4,
  "nbformat_minor": 0
}